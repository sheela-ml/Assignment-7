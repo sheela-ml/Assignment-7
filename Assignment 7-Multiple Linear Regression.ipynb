{
 "cells": [
  {
   "cell_type": "markdown",
   "id": "8d43095f",
   "metadata": {},
   "source": [
    "# Evaluate the Multiple Variable Linear Regression and KNN Regression Algorithm "
   ]
  },
  {
   "cell_type": "code",
   "execution_count": 1,
   "id": "759f1e6e",
   "metadata": {},
   "outputs": [],
   "source": [
    "# import the data\n",
    "# sep x,y\n",
    "# find out the coef , intercept\n",
    "# y = m1*x1 + m2*x2 + m3*x3 + c\n",
    "\n",
    "#KNN Regressor\n",
    "\n",
    "\n",
    "# calculate r2_score\n",
    "#compared"
   ]
  },
  {
   "cell_type": "markdown",
   "id": "7cb3fb26",
   "metadata": {},
   "source": [
    "# Import Libraries"
   ]
  },
  {
   "cell_type": "code",
   "execution_count": 2,
   "id": "1740d62c",
   "metadata": {},
   "outputs": [],
   "source": [
    "import pandas as pd\n",
    "import numpy as np\n",
    "import matplotlib.pyplot as plt\n",
    "from matplotlib import pyplot as plt\n",
    "import seaborn as sns # analysis / visualization\n",
    "from sklearn.model_selection import train_test_split as tts  # data spliting\n",
    "\n",
    "import warnings as w\n",
    "w.filterwarnings('ignore')"
   ]
  },
  {
   "cell_type": "markdown",
   "id": "a062160d",
   "metadata": {},
   "source": [
    "# Import Dataset"
   ]
  },
  {
   "cell_type": "code",
   "execution_count": 3,
   "id": "e4f0f7c2",
   "metadata": {},
   "outputs": [],
   "source": [
    "df = pd.read_csv('insurance.csv')"
   ]
  },
  {
   "cell_type": "code",
   "execution_count": 4,
   "id": "f70820b7",
   "metadata": {},
   "outputs": [
    {
     "data": {
      "text/html": [
       "<div>\n",
       "<style scoped>\n",
       "    .dataframe tbody tr th:only-of-type {\n",
       "        vertical-align: middle;\n",
       "    }\n",
       "\n",
       "    .dataframe tbody tr th {\n",
       "        vertical-align: top;\n",
       "    }\n",
       "\n",
       "    .dataframe thead th {\n",
       "        text-align: right;\n",
       "    }\n",
       "</style>\n",
       "<table border=\"1\" class=\"dataframe\">\n",
       "  <thead>\n",
       "    <tr style=\"text-align: right;\">\n",
       "      <th></th>\n",
       "      <th>age</th>\n",
       "      <th>sex</th>\n",
       "      <th>bmi</th>\n",
       "      <th>children</th>\n",
       "      <th>smoker</th>\n",
       "      <th>region</th>\n",
       "      <th>charges</th>\n",
       "    </tr>\n",
       "  </thead>\n",
       "  <tbody>\n",
       "    <tr>\n",
       "      <th>0</th>\n",
       "      <td>19</td>\n",
       "      <td>female</td>\n",
       "      <td>27.900</td>\n",
       "      <td>0</td>\n",
       "      <td>yes</td>\n",
       "      <td>southwest</td>\n",
       "      <td>16884.92400</td>\n",
       "    </tr>\n",
       "    <tr>\n",
       "      <th>1</th>\n",
       "      <td>18</td>\n",
       "      <td>male</td>\n",
       "      <td>33.770</td>\n",
       "      <td>1</td>\n",
       "      <td>no</td>\n",
       "      <td>southeast</td>\n",
       "      <td>1725.55230</td>\n",
       "    </tr>\n",
       "    <tr>\n",
       "      <th>2</th>\n",
       "      <td>28</td>\n",
       "      <td>male</td>\n",
       "      <td>33.000</td>\n",
       "      <td>3</td>\n",
       "      <td>no</td>\n",
       "      <td>southeast</td>\n",
       "      <td>4449.46200</td>\n",
       "    </tr>\n",
       "    <tr>\n",
       "      <th>3</th>\n",
       "      <td>33</td>\n",
       "      <td>male</td>\n",
       "      <td>22.705</td>\n",
       "      <td>0</td>\n",
       "      <td>no</td>\n",
       "      <td>northwest</td>\n",
       "      <td>21984.47061</td>\n",
       "    </tr>\n",
       "    <tr>\n",
       "      <th>4</th>\n",
       "      <td>32</td>\n",
       "      <td>male</td>\n",
       "      <td>28.880</td>\n",
       "      <td>0</td>\n",
       "      <td>no</td>\n",
       "      <td>northwest</td>\n",
       "      <td>3866.85520</td>\n",
       "    </tr>\n",
       "  </tbody>\n",
       "</table>\n",
       "</div>"
      ],
      "text/plain": [
       "   age     sex     bmi  children smoker     region      charges\n",
       "0   19  female  27.900         0    yes  southwest  16884.92400\n",
       "1   18    male  33.770         1     no  southeast   1725.55230\n",
       "2   28    male  33.000         3     no  southeast   4449.46200\n",
       "3   33    male  22.705         0     no  northwest  21984.47061\n",
       "4   32    male  28.880         0     no  northwest   3866.85520"
      ]
     },
     "execution_count": 4,
     "metadata": {},
     "output_type": "execute_result"
    }
   ],
   "source": [
    "df.head()"
   ]
  },
  {
   "cell_type": "code",
   "execution_count": 5,
   "id": "6edb6e0b",
   "metadata": {},
   "outputs": [
    {
     "data": {
      "text/html": [
       "<div>\n",
       "<style scoped>\n",
       "    .dataframe tbody tr th:only-of-type {\n",
       "        vertical-align: middle;\n",
       "    }\n",
       "\n",
       "    .dataframe tbody tr th {\n",
       "        vertical-align: top;\n",
       "    }\n",
       "\n",
       "    .dataframe thead th {\n",
       "        text-align: right;\n",
       "    }\n",
       "</style>\n",
       "<table border=\"1\" class=\"dataframe\">\n",
       "  <thead>\n",
       "    <tr style=\"text-align: right;\">\n",
       "      <th></th>\n",
       "      <th>age</th>\n",
       "      <th>sex</th>\n",
       "      <th>bmi</th>\n",
       "      <th>children</th>\n",
       "      <th>smoker</th>\n",
       "      <th>region</th>\n",
       "      <th>charges</th>\n",
       "    </tr>\n",
       "  </thead>\n",
       "  <tbody>\n",
       "    <tr>\n",
       "      <th>1333</th>\n",
       "      <td>50</td>\n",
       "      <td>male</td>\n",
       "      <td>30.97</td>\n",
       "      <td>3</td>\n",
       "      <td>no</td>\n",
       "      <td>northwest</td>\n",
       "      <td>10600.5483</td>\n",
       "    </tr>\n",
       "    <tr>\n",
       "      <th>1334</th>\n",
       "      <td>18</td>\n",
       "      <td>female</td>\n",
       "      <td>31.92</td>\n",
       "      <td>0</td>\n",
       "      <td>no</td>\n",
       "      <td>northeast</td>\n",
       "      <td>2205.9808</td>\n",
       "    </tr>\n",
       "    <tr>\n",
       "      <th>1335</th>\n",
       "      <td>18</td>\n",
       "      <td>female</td>\n",
       "      <td>36.85</td>\n",
       "      <td>0</td>\n",
       "      <td>no</td>\n",
       "      <td>southeast</td>\n",
       "      <td>1629.8335</td>\n",
       "    </tr>\n",
       "    <tr>\n",
       "      <th>1336</th>\n",
       "      <td>21</td>\n",
       "      <td>female</td>\n",
       "      <td>25.80</td>\n",
       "      <td>0</td>\n",
       "      <td>no</td>\n",
       "      <td>southwest</td>\n",
       "      <td>2007.9450</td>\n",
       "    </tr>\n",
       "    <tr>\n",
       "      <th>1337</th>\n",
       "      <td>61</td>\n",
       "      <td>female</td>\n",
       "      <td>29.07</td>\n",
       "      <td>0</td>\n",
       "      <td>yes</td>\n",
       "      <td>northwest</td>\n",
       "      <td>29141.3603</td>\n",
       "    </tr>\n",
       "  </tbody>\n",
       "</table>\n",
       "</div>"
      ],
      "text/plain": [
       "      age     sex    bmi  children smoker     region     charges\n",
       "1333   50    male  30.97         3     no  northwest  10600.5483\n",
       "1334   18  female  31.92         0     no  northeast   2205.9808\n",
       "1335   18  female  36.85         0     no  southeast   1629.8335\n",
       "1336   21  female  25.80         0     no  southwest   2007.9450\n",
       "1337   61  female  29.07         0    yes  northwest  29141.3603"
      ]
     },
     "execution_count": 5,
     "metadata": {},
     "output_type": "execute_result"
    }
   ],
   "source": [
    "df.tail()"
   ]
  },
  {
   "cell_type": "code",
   "execution_count": 6,
   "id": "faf0fc15",
   "metadata": {},
   "outputs": [
    {
     "data": {
      "text/plain": [
       "age           int64\n",
       "sex          object\n",
       "bmi         float64\n",
       "children      int64\n",
       "smoker       object\n",
       "region       object\n",
       "charges     float64\n",
       "dtype: object"
      ]
     },
     "execution_count": 6,
     "metadata": {},
     "output_type": "execute_result"
    }
   ],
   "source": [
    "df.dtypes"
   ]
  },
  {
   "cell_type": "code",
   "execution_count": 7,
   "id": "7a3ea5c3",
   "metadata": {},
   "outputs": [],
   "source": [
    "catg = df.select_dtypes('object')\n",
    "cont = df.select_dtypes('number')"
   ]
  },
  {
   "cell_type": "code",
   "execution_count": 8,
   "id": "061c669f",
   "metadata": {},
   "outputs": [
    {
     "data": {
      "text/html": [
       "<div>\n",
       "<style scoped>\n",
       "    .dataframe tbody tr th:only-of-type {\n",
       "        vertical-align: middle;\n",
       "    }\n",
       "\n",
       "    .dataframe tbody tr th {\n",
       "        vertical-align: top;\n",
       "    }\n",
       "\n",
       "    .dataframe thead th {\n",
       "        text-align: right;\n",
       "    }\n",
       "</style>\n",
       "<table border=\"1\" class=\"dataframe\">\n",
       "  <thead>\n",
       "    <tr style=\"text-align: right;\">\n",
       "      <th></th>\n",
       "      <th>sex</th>\n",
       "      <th>smoker</th>\n",
       "      <th>region</th>\n",
       "    </tr>\n",
       "  </thead>\n",
       "  <tbody>\n",
       "    <tr>\n",
       "      <th>0</th>\n",
       "      <td>female</td>\n",
       "      <td>yes</td>\n",
       "      <td>southwest</td>\n",
       "    </tr>\n",
       "    <tr>\n",
       "      <th>1</th>\n",
       "      <td>male</td>\n",
       "      <td>no</td>\n",
       "      <td>southeast</td>\n",
       "    </tr>\n",
       "    <tr>\n",
       "      <th>2</th>\n",
       "      <td>male</td>\n",
       "      <td>no</td>\n",
       "      <td>southeast</td>\n",
       "    </tr>\n",
       "    <tr>\n",
       "      <th>3</th>\n",
       "      <td>male</td>\n",
       "      <td>no</td>\n",
       "      <td>northwest</td>\n",
       "    </tr>\n",
       "    <tr>\n",
       "      <th>4</th>\n",
       "      <td>male</td>\n",
       "      <td>no</td>\n",
       "      <td>northwest</td>\n",
       "    </tr>\n",
       "  </tbody>\n",
       "</table>\n",
       "</div>"
      ],
      "text/plain": [
       "      sex smoker     region\n",
       "0  female    yes  southwest\n",
       "1    male     no  southeast\n",
       "2    male     no  southeast\n",
       "3    male     no  northwest\n",
       "4    male     no  northwest"
      ]
     },
     "execution_count": 8,
     "metadata": {},
     "output_type": "execute_result"
    }
   ],
   "source": [
    "catg.head()"
   ]
  },
  {
   "cell_type": "code",
   "execution_count": 9,
   "id": "8a522b80",
   "metadata": {},
   "outputs": [
    {
     "data": {
      "text/html": [
       "<div>\n",
       "<style scoped>\n",
       "    .dataframe tbody tr th:only-of-type {\n",
       "        vertical-align: middle;\n",
       "    }\n",
       "\n",
       "    .dataframe tbody tr th {\n",
       "        vertical-align: top;\n",
       "    }\n",
       "\n",
       "    .dataframe thead th {\n",
       "        text-align: right;\n",
       "    }\n",
       "</style>\n",
       "<table border=\"1\" class=\"dataframe\">\n",
       "  <thead>\n",
       "    <tr style=\"text-align: right;\">\n",
       "      <th></th>\n",
       "      <th>age</th>\n",
       "      <th>bmi</th>\n",
       "      <th>children</th>\n",
       "      <th>charges</th>\n",
       "    </tr>\n",
       "  </thead>\n",
       "  <tbody>\n",
       "    <tr>\n",
       "      <th>0</th>\n",
       "      <td>19</td>\n",
       "      <td>27.900</td>\n",
       "      <td>0</td>\n",
       "      <td>16884.92400</td>\n",
       "    </tr>\n",
       "    <tr>\n",
       "      <th>1</th>\n",
       "      <td>18</td>\n",
       "      <td>33.770</td>\n",
       "      <td>1</td>\n",
       "      <td>1725.55230</td>\n",
       "    </tr>\n",
       "    <tr>\n",
       "      <th>2</th>\n",
       "      <td>28</td>\n",
       "      <td>33.000</td>\n",
       "      <td>3</td>\n",
       "      <td>4449.46200</td>\n",
       "    </tr>\n",
       "    <tr>\n",
       "      <th>3</th>\n",
       "      <td>33</td>\n",
       "      <td>22.705</td>\n",
       "      <td>0</td>\n",
       "      <td>21984.47061</td>\n",
       "    </tr>\n",
       "    <tr>\n",
       "      <th>4</th>\n",
       "      <td>32</td>\n",
       "      <td>28.880</td>\n",
       "      <td>0</td>\n",
       "      <td>3866.85520</td>\n",
       "    </tr>\n",
       "  </tbody>\n",
       "</table>\n",
       "</div>"
      ],
      "text/plain": [
       "   age     bmi  children      charges\n",
       "0   19  27.900         0  16884.92400\n",
       "1   18  33.770         1   1725.55230\n",
       "2   28  33.000         3   4449.46200\n",
       "3   33  22.705         0  21984.47061\n",
       "4   32  28.880         0   3866.85520"
      ]
     },
     "execution_count": 9,
     "metadata": {},
     "output_type": "execute_result"
    }
   ],
   "source": [
    "cont.head()"
   ]
  },
  {
   "cell_type": "code",
   "execution_count": 10,
   "id": "64319768",
   "metadata": {},
   "outputs": [
    {
     "data": {
      "text/plain": [
       "(1338, 7)"
      ]
     },
     "execution_count": 10,
     "metadata": {},
     "output_type": "execute_result"
    }
   ],
   "source": [
    "df.shape"
   ]
  },
  {
   "cell_type": "code",
   "execution_count": 11,
   "id": "2d4da4fb",
   "metadata": {},
   "outputs": [
    {
     "name": "stdout",
     "output_type": "stream",
     "text": [
      "<class 'pandas.core.frame.DataFrame'>\n",
      "RangeIndex: 1338 entries, 0 to 1337\n",
      "Data columns (total 7 columns):\n",
      " #   Column    Non-Null Count  Dtype  \n",
      "---  ------    --------------  -----  \n",
      " 0   age       1338 non-null   int64  \n",
      " 1   sex       1338 non-null   object \n",
      " 2   bmi       1338 non-null   float64\n",
      " 3   children  1338 non-null   int64  \n",
      " 4   smoker    1338 non-null   object \n",
      " 5   region    1338 non-null   object \n",
      " 6   charges   1338 non-null   float64\n",
      "dtypes: float64(2), int64(2), object(3)\n",
      "memory usage: 73.3+ KB\n"
     ]
    }
   ],
   "source": [
    "df.info()"
   ]
  },
  {
   "cell_type": "code",
   "execution_count": 12,
   "id": "e82b1530",
   "metadata": {},
   "outputs": [
    {
     "data": {
      "text/plain": [
       "age         0\n",
       "sex         0\n",
       "bmi         0\n",
       "children    0\n",
       "smoker      0\n",
       "region      0\n",
       "charges     0\n",
       "dtype: int64"
      ]
     },
     "execution_count": 12,
     "metadata": {},
     "output_type": "execute_result"
    }
   ],
   "source": [
    "df.isnull().sum()"
   ]
  },
  {
   "cell_type": "code",
   "execution_count": 13,
   "id": "0778a6e7",
   "metadata": {},
   "outputs": [],
   "source": [
    "df1 = df.copy()\n",
    "df2 = df.copy()\n",
    "df3 = df.copy()"
   ]
  },
  {
   "cell_type": "markdown",
   "id": "5bbf808c",
   "metadata": {},
   "source": [
    "# Seperate x,y"
   ]
  },
  {
   "cell_type": "code",
   "execution_count": 14,
   "id": "301493b6",
   "metadata": {},
   "outputs": [
    {
     "data": {
      "text/html": [
       "<div>\n",
       "<style scoped>\n",
       "    .dataframe tbody tr th:only-of-type {\n",
       "        vertical-align: middle;\n",
       "    }\n",
       "\n",
       "    .dataframe tbody tr th {\n",
       "        vertical-align: top;\n",
       "    }\n",
       "\n",
       "    .dataframe thead th {\n",
       "        text-align: right;\n",
       "    }\n",
       "</style>\n",
       "<table border=\"1\" class=\"dataframe\">\n",
       "  <thead>\n",
       "    <tr style=\"text-align: right;\">\n",
       "      <th></th>\n",
       "      <th>age</th>\n",
       "      <th>sex</th>\n",
       "      <th>bmi</th>\n",
       "      <th>children</th>\n",
       "      <th>smoker</th>\n",
       "      <th>region</th>\n",
       "    </tr>\n",
       "  </thead>\n",
       "  <tbody>\n",
       "    <tr>\n",
       "      <th>0</th>\n",
       "      <td>19</td>\n",
       "      <td>female</td>\n",
       "      <td>27.900</td>\n",
       "      <td>0</td>\n",
       "      <td>yes</td>\n",
       "      <td>southwest</td>\n",
       "    </tr>\n",
       "    <tr>\n",
       "      <th>1</th>\n",
       "      <td>18</td>\n",
       "      <td>male</td>\n",
       "      <td>33.770</td>\n",
       "      <td>1</td>\n",
       "      <td>no</td>\n",
       "      <td>southeast</td>\n",
       "    </tr>\n",
       "    <tr>\n",
       "      <th>2</th>\n",
       "      <td>28</td>\n",
       "      <td>male</td>\n",
       "      <td>33.000</td>\n",
       "      <td>3</td>\n",
       "      <td>no</td>\n",
       "      <td>southeast</td>\n",
       "    </tr>\n",
       "    <tr>\n",
       "      <th>3</th>\n",
       "      <td>33</td>\n",
       "      <td>male</td>\n",
       "      <td>22.705</td>\n",
       "      <td>0</td>\n",
       "      <td>no</td>\n",
       "      <td>northwest</td>\n",
       "    </tr>\n",
       "    <tr>\n",
       "      <th>4</th>\n",
       "      <td>32</td>\n",
       "      <td>male</td>\n",
       "      <td>28.880</td>\n",
       "      <td>0</td>\n",
       "      <td>no</td>\n",
       "      <td>northwest</td>\n",
       "    </tr>\n",
       "    <tr>\n",
       "      <th>...</th>\n",
       "      <td>...</td>\n",
       "      <td>...</td>\n",
       "      <td>...</td>\n",
       "      <td>...</td>\n",
       "      <td>...</td>\n",
       "      <td>...</td>\n",
       "    </tr>\n",
       "    <tr>\n",
       "      <th>1333</th>\n",
       "      <td>50</td>\n",
       "      <td>male</td>\n",
       "      <td>30.970</td>\n",
       "      <td>3</td>\n",
       "      <td>no</td>\n",
       "      <td>northwest</td>\n",
       "    </tr>\n",
       "    <tr>\n",
       "      <th>1334</th>\n",
       "      <td>18</td>\n",
       "      <td>female</td>\n",
       "      <td>31.920</td>\n",
       "      <td>0</td>\n",
       "      <td>no</td>\n",
       "      <td>northeast</td>\n",
       "    </tr>\n",
       "    <tr>\n",
       "      <th>1335</th>\n",
       "      <td>18</td>\n",
       "      <td>female</td>\n",
       "      <td>36.850</td>\n",
       "      <td>0</td>\n",
       "      <td>no</td>\n",
       "      <td>southeast</td>\n",
       "    </tr>\n",
       "    <tr>\n",
       "      <th>1336</th>\n",
       "      <td>21</td>\n",
       "      <td>female</td>\n",
       "      <td>25.800</td>\n",
       "      <td>0</td>\n",
       "      <td>no</td>\n",
       "      <td>southwest</td>\n",
       "    </tr>\n",
       "    <tr>\n",
       "      <th>1337</th>\n",
       "      <td>61</td>\n",
       "      <td>female</td>\n",
       "      <td>29.070</td>\n",
       "      <td>0</td>\n",
       "      <td>yes</td>\n",
       "      <td>northwest</td>\n",
       "    </tr>\n",
       "  </tbody>\n",
       "</table>\n",
       "<p>1338 rows × 6 columns</p>\n",
       "</div>"
      ],
      "text/plain": [
       "      age     sex     bmi  children smoker     region\n",
       "0      19  female  27.900         0    yes  southwest\n",
       "1      18    male  33.770         1     no  southeast\n",
       "2      28    male  33.000         3     no  southeast\n",
       "3      33    male  22.705         0     no  northwest\n",
       "4      32    male  28.880         0     no  northwest\n",
       "...   ...     ...     ...       ...    ...        ...\n",
       "1333   50    male  30.970         3     no  northwest\n",
       "1334   18  female  31.920         0     no  northeast\n",
       "1335   18  female  36.850         0     no  southeast\n",
       "1336   21  female  25.800         0     no  southwest\n",
       "1337   61  female  29.070         0    yes  northwest\n",
       "\n",
       "[1338 rows x 6 columns]"
      ]
     },
     "execution_count": 14,
     "metadata": {},
     "output_type": "execute_result"
    }
   ],
   "source": [
    "x = df.drop('charges', axis=1)\n",
    "x"
   ]
  },
  {
   "cell_type": "code",
   "execution_count": 15,
   "id": "29dded89",
   "metadata": {},
   "outputs": [],
   "source": [
    "y = df['charges']"
   ]
  },
  {
   "cell_type": "markdown",
   "id": "2752e89b",
   "metadata": {},
   "source": [
    "# Perform Encoding for Categorical Columns(Sex, Smoker, Region)"
   ]
  },
  {
   "cell_type": "markdown",
   "id": "1965b147",
   "metadata": {},
   "source": [
    "# One Hot Using loop"
   ]
  },
  {
   "cell_type": "code",
   "execution_count": 16,
   "id": "07cddb7a",
   "metadata": {},
   "outputs": [
    {
     "data": {
      "text/html": [
       "<div>\n",
       "<style scoped>\n",
       "    .dataframe tbody tr th:only-of-type {\n",
       "        vertical-align: middle;\n",
       "    }\n",
       "\n",
       "    .dataframe tbody tr th {\n",
       "        vertical-align: top;\n",
       "    }\n",
       "\n",
       "    .dataframe thead th {\n",
       "        text-align: right;\n",
       "    }\n",
       "</style>\n",
       "<table border=\"1\" class=\"dataframe\">\n",
       "  <thead>\n",
       "    <tr style=\"text-align: right;\">\n",
       "      <th></th>\n",
       "      <th>age</th>\n",
       "      <th>sex</th>\n",
       "      <th>bmi</th>\n",
       "      <th>children</th>\n",
       "      <th>smoker</th>\n",
       "      <th>region</th>\n",
       "      <th>charges</th>\n",
       "    </tr>\n",
       "  </thead>\n",
       "  <tbody>\n",
       "    <tr>\n",
       "      <th>0</th>\n",
       "      <td>19</td>\n",
       "      <td>female</td>\n",
       "      <td>27.900</td>\n",
       "      <td>0</td>\n",
       "      <td>yes</td>\n",
       "      <td>southwest</td>\n",
       "      <td>16884.92400</td>\n",
       "    </tr>\n",
       "    <tr>\n",
       "      <th>1</th>\n",
       "      <td>18</td>\n",
       "      <td>male</td>\n",
       "      <td>33.770</td>\n",
       "      <td>1</td>\n",
       "      <td>no</td>\n",
       "      <td>southeast</td>\n",
       "      <td>1725.55230</td>\n",
       "    </tr>\n",
       "    <tr>\n",
       "      <th>2</th>\n",
       "      <td>28</td>\n",
       "      <td>male</td>\n",
       "      <td>33.000</td>\n",
       "      <td>3</td>\n",
       "      <td>no</td>\n",
       "      <td>southeast</td>\n",
       "      <td>4449.46200</td>\n",
       "    </tr>\n",
       "    <tr>\n",
       "      <th>3</th>\n",
       "      <td>33</td>\n",
       "      <td>male</td>\n",
       "      <td>22.705</td>\n",
       "      <td>0</td>\n",
       "      <td>no</td>\n",
       "      <td>northwest</td>\n",
       "      <td>21984.47061</td>\n",
       "    </tr>\n",
       "    <tr>\n",
       "      <th>4</th>\n",
       "      <td>32</td>\n",
       "      <td>male</td>\n",
       "      <td>28.880</td>\n",
       "      <td>0</td>\n",
       "      <td>no</td>\n",
       "      <td>northwest</td>\n",
       "      <td>3866.85520</td>\n",
       "    </tr>\n",
       "  </tbody>\n",
       "</table>\n",
       "</div>"
      ],
      "text/plain": [
       "   age     sex     bmi  children smoker     region      charges\n",
       "0   19  female  27.900         0    yes  southwest  16884.92400\n",
       "1   18    male  33.770         1     no  southeast   1725.55230\n",
       "2   28    male  33.000         3     no  southeast   4449.46200\n",
       "3   33    male  22.705         0     no  northwest  21984.47061\n",
       "4   32    male  28.880         0     no  northwest   3866.85520"
      ]
     },
     "execution_count": 16,
     "metadata": {},
     "output_type": "execute_result"
    }
   ],
   "source": [
    "df1.head()"
   ]
  },
  {
   "cell_type": "code",
   "execution_count": 17,
   "id": "2a820895",
   "metadata": {},
   "outputs": [],
   "source": [
    "cols = [[\"sex\", \"smoker\", \"region\"]]\n",
    "\n",
    "for col in cols:\n",
    "    one = pd.get_dummies(df1[col], drop_first=True, prefix='dummy')\n",
    "    new_df1 = pd.concat([df1, one], axis=1)"
   ]
  },
  {
   "cell_type": "code",
   "execution_count": 18,
   "id": "c9979d3d",
   "metadata": {},
   "outputs": [
    {
     "data": {
      "text/html": [
       "<div>\n",
       "<style scoped>\n",
       "    .dataframe tbody tr th:only-of-type {\n",
       "        vertical-align: middle;\n",
       "    }\n",
       "\n",
       "    .dataframe tbody tr th {\n",
       "        vertical-align: top;\n",
       "    }\n",
       "\n",
       "    .dataframe thead th {\n",
       "        text-align: right;\n",
       "    }\n",
       "</style>\n",
       "<table border=\"1\" class=\"dataframe\">\n",
       "  <thead>\n",
       "    <tr style=\"text-align: right;\">\n",
       "      <th></th>\n",
       "      <th>age</th>\n",
       "      <th>sex</th>\n",
       "      <th>bmi</th>\n",
       "      <th>children</th>\n",
       "      <th>smoker</th>\n",
       "      <th>region</th>\n",
       "      <th>charges</th>\n",
       "      <th>dummy_male</th>\n",
       "      <th>dummy_yes</th>\n",
       "      <th>dummy_northwest</th>\n",
       "      <th>dummy_southeast</th>\n",
       "      <th>dummy_southwest</th>\n",
       "    </tr>\n",
       "  </thead>\n",
       "  <tbody>\n",
       "    <tr>\n",
       "      <th>0</th>\n",
       "      <td>19</td>\n",
       "      <td>female</td>\n",
       "      <td>27.900</td>\n",
       "      <td>0</td>\n",
       "      <td>yes</td>\n",
       "      <td>southwest</td>\n",
       "      <td>16884.92400</td>\n",
       "      <td>0</td>\n",
       "      <td>1</td>\n",
       "      <td>0</td>\n",
       "      <td>0</td>\n",
       "      <td>1</td>\n",
       "    </tr>\n",
       "    <tr>\n",
       "      <th>1</th>\n",
       "      <td>18</td>\n",
       "      <td>male</td>\n",
       "      <td>33.770</td>\n",
       "      <td>1</td>\n",
       "      <td>no</td>\n",
       "      <td>southeast</td>\n",
       "      <td>1725.55230</td>\n",
       "      <td>1</td>\n",
       "      <td>0</td>\n",
       "      <td>0</td>\n",
       "      <td>1</td>\n",
       "      <td>0</td>\n",
       "    </tr>\n",
       "    <tr>\n",
       "      <th>2</th>\n",
       "      <td>28</td>\n",
       "      <td>male</td>\n",
       "      <td>33.000</td>\n",
       "      <td>3</td>\n",
       "      <td>no</td>\n",
       "      <td>southeast</td>\n",
       "      <td>4449.46200</td>\n",
       "      <td>1</td>\n",
       "      <td>0</td>\n",
       "      <td>0</td>\n",
       "      <td>1</td>\n",
       "      <td>0</td>\n",
       "    </tr>\n",
       "    <tr>\n",
       "      <th>3</th>\n",
       "      <td>33</td>\n",
       "      <td>male</td>\n",
       "      <td>22.705</td>\n",
       "      <td>0</td>\n",
       "      <td>no</td>\n",
       "      <td>northwest</td>\n",
       "      <td>21984.47061</td>\n",
       "      <td>1</td>\n",
       "      <td>0</td>\n",
       "      <td>1</td>\n",
       "      <td>0</td>\n",
       "      <td>0</td>\n",
       "    </tr>\n",
       "    <tr>\n",
       "      <th>4</th>\n",
       "      <td>32</td>\n",
       "      <td>male</td>\n",
       "      <td>28.880</td>\n",
       "      <td>0</td>\n",
       "      <td>no</td>\n",
       "      <td>northwest</td>\n",
       "      <td>3866.85520</td>\n",
       "      <td>1</td>\n",
       "      <td>0</td>\n",
       "      <td>1</td>\n",
       "      <td>0</td>\n",
       "      <td>0</td>\n",
       "    </tr>\n",
       "  </tbody>\n",
       "</table>\n",
       "</div>"
      ],
      "text/plain": [
       "   age     sex     bmi  children smoker     region      charges  dummy_male  \\\n",
       "0   19  female  27.900         0    yes  southwest  16884.92400           0   \n",
       "1   18    male  33.770         1     no  southeast   1725.55230           1   \n",
       "2   28    male  33.000         3     no  southeast   4449.46200           1   \n",
       "3   33    male  22.705         0     no  northwest  21984.47061           1   \n",
       "4   32    male  28.880         0     no  northwest   3866.85520           1   \n",
       "\n",
       "   dummy_yes  dummy_northwest  dummy_southeast  dummy_southwest  \n",
       "0          1                0                0                1  \n",
       "1          0                0                1                0  \n",
       "2          0                0                1                0  \n",
       "3          0                1                0                0  \n",
       "4          0                1                0                0  "
      ]
     },
     "execution_count": 18,
     "metadata": {},
     "output_type": "execute_result"
    }
   ],
   "source": [
    "new_df1.head()"
   ]
  },
  {
   "cell_type": "code",
   "execution_count": 19,
   "id": "e1b5feec",
   "metadata": {},
   "outputs": [],
   "source": [
    "cols = [[\"sex\", \"smoker\", \"region\"]]\n",
    "\n",
    "for col in cols:\n",
    "    one = pd.get_dummies(df2[col], drop_first=True, prefix='dummy')\n",
    "    new_df1 = pd.concat([df2, one], axis=1).drop(col, axis=1)"
   ]
  },
  {
   "cell_type": "code",
   "execution_count": 20,
   "id": "8ff6d833",
   "metadata": {},
   "outputs": [
    {
     "data": {
      "text/html": [
       "<div>\n",
       "<style scoped>\n",
       "    .dataframe tbody tr th:only-of-type {\n",
       "        vertical-align: middle;\n",
       "    }\n",
       "\n",
       "    .dataframe tbody tr th {\n",
       "        vertical-align: top;\n",
       "    }\n",
       "\n",
       "    .dataframe thead th {\n",
       "        text-align: right;\n",
       "    }\n",
       "</style>\n",
       "<table border=\"1\" class=\"dataframe\">\n",
       "  <thead>\n",
       "    <tr style=\"text-align: right;\">\n",
       "      <th></th>\n",
       "      <th>age</th>\n",
       "      <th>bmi</th>\n",
       "      <th>children</th>\n",
       "      <th>charges</th>\n",
       "      <th>dummy_male</th>\n",
       "      <th>dummy_yes</th>\n",
       "      <th>dummy_northwest</th>\n",
       "      <th>dummy_southeast</th>\n",
       "      <th>dummy_southwest</th>\n",
       "    </tr>\n",
       "  </thead>\n",
       "  <tbody>\n",
       "    <tr>\n",
       "      <th>0</th>\n",
       "      <td>19</td>\n",
       "      <td>27.900</td>\n",
       "      <td>0</td>\n",
       "      <td>16884.92400</td>\n",
       "      <td>0</td>\n",
       "      <td>1</td>\n",
       "      <td>0</td>\n",
       "      <td>0</td>\n",
       "      <td>1</td>\n",
       "    </tr>\n",
       "    <tr>\n",
       "      <th>1</th>\n",
       "      <td>18</td>\n",
       "      <td>33.770</td>\n",
       "      <td>1</td>\n",
       "      <td>1725.55230</td>\n",
       "      <td>1</td>\n",
       "      <td>0</td>\n",
       "      <td>0</td>\n",
       "      <td>1</td>\n",
       "      <td>0</td>\n",
       "    </tr>\n",
       "    <tr>\n",
       "      <th>2</th>\n",
       "      <td>28</td>\n",
       "      <td>33.000</td>\n",
       "      <td>3</td>\n",
       "      <td>4449.46200</td>\n",
       "      <td>1</td>\n",
       "      <td>0</td>\n",
       "      <td>0</td>\n",
       "      <td>1</td>\n",
       "      <td>0</td>\n",
       "    </tr>\n",
       "    <tr>\n",
       "      <th>3</th>\n",
       "      <td>33</td>\n",
       "      <td>22.705</td>\n",
       "      <td>0</td>\n",
       "      <td>21984.47061</td>\n",
       "      <td>1</td>\n",
       "      <td>0</td>\n",
       "      <td>1</td>\n",
       "      <td>0</td>\n",
       "      <td>0</td>\n",
       "    </tr>\n",
       "    <tr>\n",
       "      <th>4</th>\n",
       "      <td>32</td>\n",
       "      <td>28.880</td>\n",
       "      <td>0</td>\n",
       "      <td>3866.85520</td>\n",
       "      <td>1</td>\n",
       "      <td>0</td>\n",
       "      <td>1</td>\n",
       "      <td>0</td>\n",
       "      <td>0</td>\n",
       "    </tr>\n",
       "    <tr>\n",
       "      <th>...</th>\n",
       "      <td>...</td>\n",
       "      <td>...</td>\n",
       "      <td>...</td>\n",
       "      <td>...</td>\n",
       "      <td>...</td>\n",
       "      <td>...</td>\n",
       "      <td>...</td>\n",
       "      <td>...</td>\n",
       "      <td>...</td>\n",
       "    </tr>\n",
       "    <tr>\n",
       "      <th>1333</th>\n",
       "      <td>50</td>\n",
       "      <td>30.970</td>\n",
       "      <td>3</td>\n",
       "      <td>10600.54830</td>\n",
       "      <td>1</td>\n",
       "      <td>0</td>\n",
       "      <td>1</td>\n",
       "      <td>0</td>\n",
       "      <td>0</td>\n",
       "    </tr>\n",
       "    <tr>\n",
       "      <th>1334</th>\n",
       "      <td>18</td>\n",
       "      <td>31.920</td>\n",
       "      <td>0</td>\n",
       "      <td>2205.98080</td>\n",
       "      <td>0</td>\n",
       "      <td>0</td>\n",
       "      <td>0</td>\n",
       "      <td>0</td>\n",
       "      <td>0</td>\n",
       "    </tr>\n",
       "    <tr>\n",
       "      <th>1335</th>\n",
       "      <td>18</td>\n",
       "      <td>36.850</td>\n",
       "      <td>0</td>\n",
       "      <td>1629.83350</td>\n",
       "      <td>0</td>\n",
       "      <td>0</td>\n",
       "      <td>0</td>\n",
       "      <td>1</td>\n",
       "      <td>0</td>\n",
       "    </tr>\n",
       "    <tr>\n",
       "      <th>1336</th>\n",
       "      <td>21</td>\n",
       "      <td>25.800</td>\n",
       "      <td>0</td>\n",
       "      <td>2007.94500</td>\n",
       "      <td>0</td>\n",
       "      <td>0</td>\n",
       "      <td>0</td>\n",
       "      <td>0</td>\n",
       "      <td>1</td>\n",
       "    </tr>\n",
       "    <tr>\n",
       "      <th>1337</th>\n",
       "      <td>61</td>\n",
       "      <td>29.070</td>\n",
       "      <td>0</td>\n",
       "      <td>29141.36030</td>\n",
       "      <td>0</td>\n",
       "      <td>1</td>\n",
       "      <td>1</td>\n",
       "      <td>0</td>\n",
       "      <td>0</td>\n",
       "    </tr>\n",
       "  </tbody>\n",
       "</table>\n",
       "<p>1338 rows × 9 columns</p>\n",
       "</div>"
      ],
      "text/plain": [
       "      age     bmi  children      charges  dummy_male  dummy_yes  \\\n",
       "0      19  27.900         0  16884.92400           0          1   \n",
       "1      18  33.770         1   1725.55230           1          0   \n",
       "2      28  33.000         3   4449.46200           1          0   \n",
       "3      33  22.705         0  21984.47061           1          0   \n",
       "4      32  28.880         0   3866.85520           1          0   \n",
       "...   ...     ...       ...          ...         ...        ...   \n",
       "1333   50  30.970         3  10600.54830           1          0   \n",
       "1334   18  31.920         0   2205.98080           0          0   \n",
       "1335   18  36.850         0   1629.83350           0          0   \n",
       "1336   21  25.800         0   2007.94500           0          0   \n",
       "1337   61  29.070         0  29141.36030           0          1   \n",
       "\n",
       "      dummy_northwest  dummy_southeast  dummy_southwest  \n",
       "0                   0                0                1  \n",
       "1                   0                1                0  \n",
       "2                   0                1                0  \n",
       "3                   1                0                0  \n",
       "4                   1                0                0  \n",
       "...               ...              ...              ...  \n",
       "1333                1                0                0  \n",
       "1334                0                0                0  \n",
       "1335                0                1                0  \n",
       "1336                0                0                1  \n",
       "1337                1                0                0  \n",
       "\n",
       "[1338 rows x 9 columns]"
      ]
     },
     "execution_count": 20,
     "metadata": {},
     "output_type": "execute_result"
    }
   ],
   "source": [
    "new_df1"
   ]
  },
  {
   "cell_type": "code",
   "execution_count": 21,
   "id": "bb21d431",
   "metadata": {},
   "outputs": [],
   "source": [
    "Data = new_df1"
   ]
  },
  {
   "cell_type": "code",
   "execution_count": 22,
   "id": "99441ce3",
   "metadata": {},
   "outputs": [
    {
     "data": {
      "text/html": [
       "<div>\n",
       "<style scoped>\n",
       "    .dataframe tbody tr th:only-of-type {\n",
       "        vertical-align: middle;\n",
       "    }\n",
       "\n",
       "    .dataframe tbody tr th {\n",
       "        vertical-align: top;\n",
       "    }\n",
       "\n",
       "    .dataframe thead th {\n",
       "        text-align: right;\n",
       "    }\n",
       "</style>\n",
       "<table border=\"1\" class=\"dataframe\">\n",
       "  <thead>\n",
       "    <tr style=\"text-align: right;\">\n",
       "      <th></th>\n",
       "      <th>age</th>\n",
       "      <th>bmi</th>\n",
       "      <th>children</th>\n",
       "      <th>charges</th>\n",
       "      <th>dummy_male</th>\n",
       "      <th>dummy_yes</th>\n",
       "      <th>dummy_northwest</th>\n",
       "      <th>dummy_southeast</th>\n",
       "      <th>dummy_southwest</th>\n",
       "    </tr>\n",
       "  </thead>\n",
       "  <tbody>\n",
       "    <tr>\n",
       "      <th>0</th>\n",
       "      <td>19</td>\n",
       "      <td>27.900</td>\n",
       "      <td>0</td>\n",
       "      <td>16884.92400</td>\n",
       "      <td>0</td>\n",
       "      <td>1</td>\n",
       "      <td>0</td>\n",
       "      <td>0</td>\n",
       "      <td>1</td>\n",
       "    </tr>\n",
       "    <tr>\n",
       "      <th>1</th>\n",
       "      <td>18</td>\n",
       "      <td>33.770</td>\n",
       "      <td>1</td>\n",
       "      <td>1725.55230</td>\n",
       "      <td>1</td>\n",
       "      <td>0</td>\n",
       "      <td>0</td>\n",
       "      <td>1</td>\n",
       "      <td>0</td>\n",
       "    </tr>\n",
       "    <tr>\n",
       "      <th>2</th>\n",
       "      <td>28</td>\n",
       "      <td>33.000</td>\n",
       "      <td>3</td>\n",
       "      <td>4449.46200</td>\n",
       "      <td>1</td>\n",
       "      <td>0</td>\n",
       "      <td>0</td>\n",
       "      <td>1</td>\n",
       "      <td>0</td>\n",
       "    </tr>\n",
       "    <tr>\n",
       "      <th>3</th>\n",
       "      <td>33</td>\n",
       "      <td>22.705</td>\n",
       "      <td>0</td>\n",
       "      <td>21984.47061</td>\n",
       "      <td>1</td>\n",
       "      <td>0</td>\n",
       "      <td>1</td>\n",
       "      <td>0</td>\n",
       "      <td>0</td>\n",
       "    </tr>\n",
       "    <tr>\n",
       "      <th>4</th>\n",
       "      <td>32</td>\n",
       "      <td>28.880</td>\n",
       "      <td>0</td>\n",
       "      <td>3866.85520</td>\n",
       "      <td>1</td>\n",
       "      <td>0</td>\n",
       "      <td>1</td>\n",
       "      <td>0</td>\n",
       "      <td>0</td>\n",
       "    </tr>\n",
       "    <tr>\n",
       "      <th>...</th>\n",
       "      <td>...</td>\n",
       "      <td>...</td>\n",
       "      <td>...</td>\n",
       "      <td>...</td>\n",
       "      <td>...</td>\n",
       "      <td>...</td>\n",
       "      <td>...</td>\n",
       "      <td>...</td>\n",
       "      <td>...</td>\n",
       "    </tr>\n",
       "    <tr>\n",
       "      <th>1333</th>\n",
       "      <td>50</td>\n",
       "      <td>30.970</td>\n",
       "      <td>3</td>\n",
       "      <td>10600.54830</td>\n",
       "      <td>1</td>\n",
       "      <td>0</td>\n",
       "      <td>1</td>\n",
       "      <td>0</td>\n",
       "      <td>0</td>\n",
       "    </tr>\n",
       "    <tr>\n",
       "      <th>1334</th>\n",
       "      <td>18</td>\n",
       "      <td>31.920</td>\n",
       "      <td>0</td>\n",
       "      <td>2205.98080</td>\n",
       "      <td>0</td>\n",
       "      <td>0</td>\n",
       "      <td>0</td>\n",
       "      <td>0</td>\n",
       "      <td>0</td>\n",
       "    </tr>\n",
       "    <tr>\n",
       "      <th>1335</th>\n",
       "      <td>18</td>\n",
       "      <td>36.850</td>\n",
       "      <td>0</td>\n",
       "      <td>1629.83350</td>\n",
       "      <td>0</td>\n",
       "      <td>0</td>\n",
       "      <td>0</td>\n",
       "      <td>1</td>\n",
       "      <td>0</td>\n",
       "    </tr>\n",
       "    <tr>\n",
       "      <th>1336</th>\n",
       "      <td>21</td>\n",
       "      <td>25.800</td>\n",
       "      <td>0</td>\n",
       "      <td>2007.94500</td>\n",
       "      <td>0</td>\n",
       "      <td>0</td>\n",
       "      <td>0</td>\n",
       "      <td>0</td>\n",
       "      <td>1</td>\n",
       "    </tr>\n",
       "    <tr>\n",
       "      <th>1337</th>\n",
       "      <td>61</td>\n",
       "      <td>29.070</td>\n",
       "      <td>0</td>\n",
       "      <td>29141.36030</td>\n",
       "      <td>0</td>\n",
       "      <td>1</td>\n",
       "      <td>1</td>\n",
       "      <td>0</td>\n",
       "      <td>0</td>\n",
       "    </tr>\n",
       "  </tbody>\n",
       "</table>\n",
       "<p>1338 rows × 9 columns</p>\n",
       "</div>"
      ],
      "text/plain": [
       "      age     bmi  children      charges  dummy_male  dummy_yes  \\\n",
       "0      19  27.900         0  16884.92400           0          1   \n",
       "1      18  33.770         1   1725.55230           1          0   \n",
       "2      28  33.000         3   4449.46200           1          0   \n",
       "3      33  22.705         0  21984.47061           1          0   \n",
       "4      32  28.880         0   3866.85520           1          0   \n",
       "...   ...     ...       ...          ...         ...        ...   \n",
       "1333   50  30.970         3  10600.54830           1          0   \n",
       "1334   18  31.920         0   2205.98080           0          0   \n",
       "1335   18  36.850         0   1629.83350           0          0   \n",
       "1336   21  25.800         0   2007.94500           0          0   \n",
       "1337   61  29.070         0  29141.36030           0          1   \n",
       "\n",
       "      dummy_northwest  dummy_southeast  dummy_southwest  \n",
       "0                   0                0                1  \n",
       "1                   0                1                0  \n",
       "2                   0                1                0  \n",
       "3                   1                0                0  \n",
       "4                   1                0                0  \n",
       "...               ...              ...              ...  \n",
       "1333                1                0                0  \n",
       "1334                0                0                0  \n",
       "1335                0                1                0  \n",
       "1336                0                0                1  \n",
       "1337                1                0                0  \n",
       "\n",
       "[1338 rows x 9 columns]"
      ]
     },
     "execution_count": 22,
     "metadata": {},
     "output_type": "execute_result"
    }
   ],
   "source": [
    "Data"
   ]
  },
  {
   "cell_type": "code",
   "execution_count": 23,
   "id": "972ffc27",
   "metadata": {},
   "outputs": [],
   "source": [
    "#Seperate x,y"
   ]
  },
  {
   "cell_type": "code",
   "execution_count": 24,
   "id": "e2e2cb62",
   "metadata": {},
   "outputs": [],
   "source": [
    "x = Data.drop('charges', axis='columns')"
   ]
  },
  {
   "cell_type": "code",
   "execution_count": 25,
   "id": "9fa9c7cd",
   "metadata": {},
   "outputs": [
    {
     "data": {
      "text/html": [
       "<div>\n",
       "<style scoped>\n",
       "    .dataframe tbody tr th:only-of-type {\n",
       "        vertical-align: middle;\n",
       "    }\n",
       "\n",
       "    .dataframe tbody tr th {\n",
       "        vertical-align: top;\n",
       "    }\n",
       "\n",
       "    .dataframe thead th {\n",
       "        text-align: right;\n",
       "    }\n",
       "</style>\n",
       "<table border=\"1\" class=\"dataframe\">\n",
       "  <thead>\n",
       "    <tr style=\"text-align: right;\">\n",
       "      <th></th>\n",
       "      <th>age</th>\n",
       "      <th>bmi</th>\n",
       "      <th>children</th>\n",
       "      <th>dummy_male</th>\n",
       "      <th>dummy_yes</th>\n",
       "      <th>dummy_northwest</th>\n",
       "      <th>dummy_southeast</th>\n",
       "      <th>dummy_southwest</th>\n",
       "    </tr>\n",
       "  </thead>\n",
       "  <tbody>\n",
       "    <tr>\n",
       "      <th>0</th>\n",
       "      <td>19</td>\n",
       "      <td>27.900</td>\n",
       "      <td>0</td>\n",
       "      <td>0</td>\n",
       "      <td>1</td>\n",
       "      <td>0</td>\n",
       "      <td>0</td>\n",
       "      <td>1</td>\n",
       "    </tr>\n",
       "    <tr>\n",
       "      <th>1</th>\n",
       "      <td>18</td>\n",
       "      <td>33.770</td>\n",
       "      <td>1</td>\n",
       "      <td>1</td>\n",
       "      <td>0</td>\n",
       "      <td>0</td>\n",
       "      <td>1</td>\n",
       "      <td>0</td>\n",
       "    </tr>\n",
       "    <tr>\n",
       "      <th>2</th>\n",
       "      <td>28</td>\n",
       "      <td>33.000</td>\n",
       "      <td>3</td>\n",
       "      <td>1</td>\n",
       "      <td>0</td>\n",
       "      <td>0</td>\n",
       "      <td>1</td>\n",
       "      <td>0</td>\n",
       "    </tr>\n",
       "    <tr>\n",
       "      <th>3</th>\n",
       "      <td>33</td>\n",
       "      <td>22.705</td>\n",
       "      <td>0</td>\n",
       "      <td>1</td>\n",
       "      <td>0</td>\n",
       "      <td>1</td>\n",
       "      <td>0</td>\n",
       "      <td>0</td>\n",
       "    </tr>\n",
       "    <tr>\n",
       "      <th>4</th>\n",
       "      <td>32</td>\n",
       "      <td>28.880</td>\n",
       "      <td>0</td>\n",
       "      <td>1</td>\n",
       "      <td>0</td>\n",
       "      <td>1</td>\n",
       "      <td>0</td>\n",
       "      <td>0</td>\n",
       "    </tr>\n",
       "    <tr>\n",
       "      <th>...</th>\n",
       "      <td>...</td>\n",
       "      <td>...</td>\n",
       "      <td>...</td>\n",
       "      <td>...</td>\n",
       "      <td>...</td>\n",
       "      <td>...</td>\n",
       "      <td>...</td>\n",
       "      <td>...</td>\n",
       "    </tr>\n",
       "    <tr>\n",
       "      <th>1333</th>\n",
       "      <td>50</td>\n",
       "      <td>30.970</td>\n",
       "      <td>3</td>\n",
       "      <td>1</td>\n",
       "      <td>0</td>\n",
       "      <td>1</td>\n",
       "      <td>0</td>\n",
       "      <td>0</td>\n",
       "    </tr>\n",
       "    <tr>\n",
       "      <th>1334</th>\n",
       "      <td>18</td>\n",
       "      <td>31.920</td>\n",
       "      <td>0</td>\n",
       "      <td>0</td>\n",
       "      <td>0</td>\n",
       "      <td>0</td>\n",
       "      <td>0</td>\n",
       "      <td>0</td>\n",
       "    </tr>\n",
       "    <tr>\n",
       "      <th>1335</th>\n",
       "      <td>18</td>\n",
       "      <td>36.850</td>\n",
       "      <td>0</td>\n",
       "      <td>0</td>\n",
       "      <td>0</td>\n",
       "      <td>0</td>\n",
       "      <td>1</td>\n",
       "      <td>0</td>\n",
       "    </tr>\n",
       "    <tr>\n",
       "      <th>1336</th>\n",
       "      <td>21</td>\n",
       "      <td>25.800</td>\n",
       "      <td>0</td>\n",
       "      <td>0</td>\n",
       "      <td>0</td>\n",
       "      <td>0</td>\n",
       "      <td>0</td>\n",
       "      <td>1</td>\n",
       "    </tr>\n",
       "    <tr>\n",
       "      <th>1337</th>\n",
       "      <td>61</td>\n",
       "      <td>29.070</td>\n",
       "      <td>0</td>\n",
       "      <td>0</td>\n",
       "      <td>1</td>\n",
       "      <td>1</td>\n",
       "      <td>0</td>\n",
       "      <td>0</td>\n",
       "    </tr>\n",
       "  </tbody>\n",
       "</table>\n",
       "<p>1338 rows × 8 columns</p>\n",
       "</div>"
      ],
      "text/plain": [
       "      age     bmi  children  dummy_male  dummy_yes  dummy_northwest  \\\n",
       "0      19  27.900         0           0          1                0   \n",
       "1      18  33.770         1           1          0                0   \n",
       "2      28  33.000         3           1          0                0   \n",
       "3      33  22.705         0           1          0                1   \n",
       "4      32  28.880         0           1          0                1   \n",
       "...   ...     ...       ...         ...        ...              ...   \n",
       "1333   50  30.970         3           1          0                1   \n",
       "1334   18  31.920         0           0          0                0   \n",
       "1335   18  36.850         0           0          0                0   \n",
       "1336   21  25.800         0           0          0                0   \n",
       "1337   61  29.070         0           0          1                1   \n",
       "\n",
       "      dummy_southeast  dummy_southwest  \n",
       "0                   0                1  \n",
       "1                   1                0  \n",
       "2                   1                0  \n",
       "3                   0                0  \n",
       "4                   0                0  \n",
       "...               ...              ...  \n",
       "1333                0                0  \n",
       "1334                0                0  \n",
       "1335                1                0  \n",
       "1336                0                1  \n",
       "1337                0                0  \n",
       "\n",
       "[1338 rows x 8 columns]"
      ]
     },
     "execution_count": 25,
     "metadata": {},
     "output_type": "execute_result"
    }
   ],
   "source": [
    "x"
   ]
  },
  {
   "cell_type": "code",
   "execution_count": 26,
   "id": "44238c7c",
   "metadata": {},
   "outputs": [],
   "source": [
    "y = df['charges']"
   ]
  },
  {
   "cell_type": "code",
   "execution_count": 27,
   "id": "e3939382",
   "metadata": {},
   "outputs": [
    {
     "data": {
      "text/plain": [
       "0    16884.92400\n",
       "1     1725.55230\n",
       "2     4449.46200\n",
       "3    21984.47061\n",
       "4     3866.85520\n",
       "Name: charges, dtype: float64"
      ]
     },
     "execution_count": 27,
     "metadata": {},
     "output_type": "execute_result"
    }
   ],
   "source": [
    "y.head()"
   ]
  },
  {
   "cell_type": "markdown",
   "id": "18ca359a",
   "metadata": {},
   "source": [
    "# Split the dataset into the traing set and test set"
   ]
  },
  {
   "cell_type": "code",
   "execution_count": 28,
   "id": "ea9e4cca",
   "metadata": {},
   "outputs": [],
   "source": [
    "#train 70% ; test =30%\n",
    "xtrain, xtest, ytrain, ytest = tts(x,y,test_size=.30,random_state=1)"
   ]
  },
  {
   "cell_type": "code",
   "execution_count": 29,
   "id": "a7c4e2ce",
   "metadata": {},
   "outputs": [
    {
     "data": {
      "text/html": [
       "<div>\n",
       "<style scoped>\n",
       "    .dataframe tbody tr th:only-of-type {\n",
       "        vertical-align: middle;\n",
       "    }\n",
       "\n",
       "    .dataframe tbody tr th {\n",
       "        vertical-align: top;\n",
       "    }\n",
       "\n",
       "    .dataframe thead th {\n",
       "        text-align: right;\n",
       "    }\n",
       "</style>\n",
       "<table border=\"1\" class=\"dataframe\">\n",
       "  <thead>\n",
       "    <tr style=\"text-align: right;\">\n",
       "      <th></th>\n",
       "      <th>age</th>\n",
       "      <th>bmi</th>\n",
       "      <th>children</th>\n",
       "      <th>dummy_male</th>\n",
       "      <th>dummy_yes</th>\n",
       "      <th>dummy_northwest</th>\n",
       "      <th>dummy_southeast</th>\n",
       "      <th>dummy_southwest</th>\n",
       "    </tr>\n",
       "  </thead>\n",
       "  <tbody>\n",
       "    <tr>\n",
       "      <th>744</th>\n",
       "      <td>50</td>\n",
       "      <td>26.41</td>\n",
       "      <td>0</td>\n",
       "      <td>1</td>\n",
       "      <td>0</td>\n",
       "      <td>1</td>\n",
       "      <td>0</td>\n",
       "      <td>0</td>\n",
       "    </tr>\n",
       "    <tr>\n",
       "      <th>363</th>\n",
       "      <td>21</td>\n",
       "      <td>26.40</td>\n",
       "      <td>1</td>\n",
       "      <td>0</td>\n",
       "      <td>0</td>\n",
       "      <td>0</td>\n",
       "      <td>0</td>\n",
       "      <td>1</td>\n",
       "    </tr>\n",
       "    <tr>\n",
       "      <th>10</th>\n",
       "      <td>25</td>\n",
       "      <td>26.22</td>\n",
       "      <td>0</td>\n",
       "      <td>1</td>\n",
       "      <td>0</td>\n",
       "      <td>0</td>\n",
       "      <td>0</td>\n",
       "      <td>0</td>\n",
       "    </tr>\n",
       "    <tr>\n",
       "      <th>970</th>\n",
       "      <td>50</td>\n",
       "      <td>28.16</td>\n",
       "      <td>3</td>\n",
       "      <td>0</td>\n",
       "      <td>0</td>\n",
       "      <td>0</td>\n",
       "      <td>1</td>\n",
       "      <td>0</td>\n",
       "    </tr>\n",
       "    <tr>\n",
       "      <th>634</th>\n",
       "      <td>51</td>\n",
       "      <td>39.70</td>\n",
       "      <td>1</td>\n",
       "      <td>1</td>\n",
       "      <td>0</td>\n",
       "      <td>0</td>\n",
       "      <td>0</td>\n",
       "      <td>1</td>\n",
       "    </tr>\n",
       "  </tbody>\n",
       "</table>\n",
       "</div>"
      ],
      "text/plain": [
       "     age    bmi  children  dummy_male  dummy_yes  dummy_northwest  \\\n",
       "744   50  26.41         0           1          0                1   \n",
       "363   21  26.40         1           0          0                0   \n",
       "10    25  26.22         0           1          0                0   \n",
       "970   50  28.16         3           0          0                0   \n",
       "634   51  39.70         1           1          0                0   \n",
       "\n",
       "     dummy_southeast  dummy_southwest  \n",
       "744                0                0  \n",
       "363                0                1  \n",
       "10                 0                0  \n",
       "970                1                0  \n",
       "634                0                1  "
      ]
     },
     "execution_count": 29,
     "metadata": {},
     "output_type": "execute_result"
    }
   ],
   "source": [
    "xtrain.head()"
   ]
  },
  {
   "cell_type": "code",
   "execution_count": 30,
   "id": "f7fa724f",
   "metadata": {},
   "outputs": [
    {
     "data": {
      "text/plain": [
       "(936, 8)"
      ]
     },
     "execution_count": 30,
     "metadata": {},
     "output_type": "execute_result"
    }
   ],
   "source": [
    "xtrain.shape"
   ]
  },
  {
   "cell_type": "code",
   "execution_count": 31,
   "id": "39cc0271",
   "metadata": {},
   "outputs": [
    {
     "data": {
      "text/plain": [
       "(402, 8)"
      ]
     },
     "execution_count": 31,
     "metadata": {},
     "output_type": "execute_result"
    }
   ],
   "source": [
    "xtest.shape"
   ]
  },
  {
   "cell_type": "code",
   "execution_count": 32,
   "id": "3bf0d67e",
   "metadata": {},
   "outputs": [
    {
     "data": {
      "text/plain": [
       "744      8827.20990\n",
       "363      2597.77900\n",
       "10       2721.32080\n",
       "970     10702.64240\n",
       "634      9391.34600\n",
       "           ...     \n",
       "715     12146.97100\n",
       "905      4564.19145\n",
       "1096    44641.19740\n",
       "235     19444.26580\n",
       "1061    11554.22360\n",
       "Name: charges, Length: 936, dtype: float64"
      ]
     },
     "execution_count": 32,
     "metadata": {},
     "output_type": "execute_result"
    }
   ],
   "source": [
    "ytrain"
   ]
  },
  {
   "cell_type": "code",
   "execution_count": 33,
   "id": "c47521b4",
   "metadata": {},
   "outputs": [
    {
     "data": {
      "text/plain": [
       "559      1646.42970\n",
       "1087    11353.22760\n",
       "1020     8798.59300\n",
       "460     10381.47870\n",
       "802      2103.08000\n",
       "           ...     \n",
       "323     11566.30055\n",
       "1268     1880.48700\n",
       "134      2457.21115\n",
       "1274    17043.34140\n",
       "876     26140.36030\n",
       "Name: charges, Length: 402, dtype: float64"
      ]
     },
     "execution_count": 33,
     "metadata": {},
     "output_type": "execute_result"
    }
   ],
   "source": [
    "ytest"
   ]
  },
  {
   "cell_type": "markdown",
   "id": "4e8e98d4",
   "metadata": {},
   "source": [
    "# Multiple Variable Linear Regression"
   ]
  },
  {
   "cell_type": "markdown",
   "id": "0e31a61e",
   "metadata": {},
   "source": [
    "# Train the model on the training set"
   ]
  },
  {
   "cell_type": "code",
   "execution_count": 34,
   "id": "0527870e",
   "metadata": {},
   "outputs": [],
   "source": [
    "from sklearn.linear_model import LinearRegression"
   ]
  },
  {
   "cell_type": "code",
   "execution_count": 35,
   "id": "31314805",
   "metadata": {},
   "outputs": [],
   "source": [
    "reg = LinearRegression()"
   ]
  },
  {
   "cell_type": "code",
   "execution_count": 36,
   "id": "51e83039",
   "metadata": {},
   "outputs": [
    {
     "data": {
      "text/plain": [
       "LinearRegression()"
      ]
     },
     "execution_count": 36,
     "metadata": {},
     "output_type": "execute_result"
    }
   ],
   "source": [
    "reg.fit(xtrain, ytrain) #training"
   ]
  },
  {
   "cell_type": "markdown",
   "id": "b9271bde",
   "metadata": {},
   "source": [
    "# Predict the test set results"
   ]
  },
  {
   "cell_type": "code",
   "execution_count": 37,
   "id": "ffdb087e",
   "metadata": {},
   "outputs": [
    {
     "data": {
      "text/plain": [
       "array([ 4.61031554e+03,  1.28878939e+04,  1.25739488e+04,  1.31978366e+04,\n",
       "        6.29337182e+02,  3.23572576e+04,  1.28537784e+04,  1.22736625e+04,\n",
       "        3.86516404e+03,  2.99041114e+04,  1.10305362e+04,  1.74288935e+04,\n",
       "        8.67020810e+03,  8.35745971e+03,  3.36875366e+03,  1.03165857e+04,\n",
       "        3.99922136e+03,  6.86650933e+03,  1.49892640e+04,  1.44001670e+04,\n",
       "        1.24848600e+04,  3.32554533e+04,  9.17711110e+03,  8.96942018e+03,\n",
       "        3.19978311e+03,  8.19525844e+03,  9.35574417e+03,  1.08473779e+04,\n",
       "        7.69460470e+03,  4.43644785e+03,  1.40732518e+04,  5.76139449e+03,\n",
       "        3.46834014e+04,  2.75058813e+04,  3.35301907e+04,  9.55351707e+03,\n",
       "        3.07999586e+04,  2.68197434e+04,  1.52082623e+04,  3.42179660e+04,\n",
       "        6.39728074e+03,  1.40583847e+04,  1.06124944e+04,  1.49646068e+04,\n",
       "        4.19302227e+03,  1.29975937e+04,  4.50078406e+03,  2.90583927e+04,\n",
       "        7.31156998e+03,  1.39664554e+04,  1.32690410e+04,  1.21999606e+04,\n",
       "        2.04035422e+03,  8.73854977e+03,  2.64331595e+04,  1.03312855e+04,\n",
       "        3.44350122e+04,  1.45093426e+04,  3.24924910e+03,  6.13485220e+03,\n",
       "        6.77467854e+03,  1.48418777e+04,  2.73993228e+04,  3.51093607e+03,\n",
       "        1.56927666e+04,  1.12127371e+04,  1.09905228e+04,  1.04431408e+04,\n",
       "        1.71597515e+03,  2.56759413e+04,  3.76732037e+04,  3.34486672e+04,\n",
       "        2.19157365e+03,  1.12147689e+04,  1.36562718e+04,  3.51753633e+04,\n",
       "        3.32808825e+03,  4.04494887e+03,  1.03432019e+04,  1.03837356e+04,\n",
       "        1.20178363e+01,  1.40004213e+04,  1.03344125e+04,  3.29614227e+03,\n",
       "        3.37158975e+04,  3.34615887e+04,  7.16462002e+03,  3.79943984e+04,\n",
       "        1.27331663e+04,  1.03237403e+04,  3.05598820e+04,  3.40748245e+04,\n",
       "        1.45487311e+04,  1.08377142e+04,  4.45048281e+02,  1.05817929e+04,\n",
       "        9.59095136e+03,  1.48983478e+04,  1.50149743e+04,  6.02441576e+03,\n",
       "        1.36841950e+04,  2.65045614e+04,  2.83208101e+04,  2.78702635e+04,\n",
       "        3.56001749e+04,  2.76315805e+04,  8.37539399e+02,  9.21657589e+03,\n",
       "        4.91854711e+03,  1.24201312e+04,  5.51522894e+03,  4.90095857e+03,\n",
       "        1.27197634e+03,  1.85874552e+04,  3.39600833e+03,  1.84429948e+03,\n",
       "        1.15093976e+04,  1.25981478e+04,  1.16687590e+04,  3.98096908e+03,\n",
       "        8.92982742e+03,  1.36236637e+04,  7.82441630e+03,  6.57641956e+03,\n",
       "        3.68308763e+04,  1.19833453e+04,  1.20155566e+04,  2.95145136e+04,\n",
       "        3.63562251e+04,  1.15343431e+04,  2.86338794e+04, -3.25371298e+02,\n",
       "        8.18830176e+03,  3.19738900e+04,  8.28508182e+03, -4.84255939e+02,\n",
       "        1.39448420e+03,  4.89274807e+03,  7.65513275e+03,  1.26291125e+04,\n",
       "        1.47944436e+04,  8.64677533e+03,  2.92015699e+04,  1.57253950e+04,\n",
       "        1.45082716e+04,  1.11288246e+04,  2.08242903e+03,  9.95630714e+03,\n",
       "        3.96195753e+03,  6.19306243e+03,  1.14277189e+04,  5.56129582e+03,\n",
       "        1.45317082e+04,  1.35920235e+04,  1.27632753e+04,  7.05268199e+03,\n",
       "        1.22718728e+04,  1.08017784e+04,  1.02070213e+04,  4.68864485e+03,\n",
       "        5.79639517e+03,  4.05110829e+04,  1.30008109e+04,  4.37014263e+03,\n",
       "        8.43419477e+03,  4.90398089e+03,  3.25516216e+04,  1.11593236e+04,\n",
       "        1.09557412e+04,  6.96438255e+03,  6.44351660e+03,  6.91323295e+03,\n",
       "        3.32632028e+04,  3.51914063e+04,  2.37377597e+03,  7.65957571e+03,\n",
       "        5.29152039e+03,  1.52886795e+04,  1.58196146e+03,  1.14925572e+04,\n",
       "        1.33344903e+04,  1.14188113e+04,  1.06365769e+04,  1.31990940e+04,\n",
       "        2.55227311e+03,  2.79910664e+04,  2.60143496e+03,  1.48061057e+04,\n",
       "        6.35227665e+03,  1.02773561e+04,  1.48295656e+04,  3.90512638e+04,\n",
       "        2.18865228e+03,  1.68534819e+03,  5.18903873e+03,  7.56956375e+03,\n",
       "        7.82400331e+03,  4.77060403e+03,  1.04606373e+04,  8.98676398e+03,\n",
       "        9.43147521e+03,  1.10620939e+04,  1.01332360e+04,  9.23761293e+03,\n",
       "        8.06081979e+03,  1.16915388e+03,  1.00852846e+04,  7.37716889e+03,\n",
       "        6.75868969e+03,  1.16910067e+04,  5.51554529e+03,  3.31411758e+04,\n",
       "        6.94013268e+03,  6.35193748e+03,  7.90162143e+03,  3.90403104e+04,\n",
       "        1.18616922e+04,  2.86532139e+04,  3.12051405e+03,  3.33692488e+04,\n",
       "        3.85628166e+03,  3.18750848e+04,  1.37554056e+04,  2.60303442e+03,\n",
       "        2.12953136e+03,  1.39404654e+03,  6.29673126e+03,  4.64905209e+03,\n",
       "        2.60575307e+04,  1.57574156e+04,  5.47386483e+03,  1.28776311e+04,\n",
       "        3.91542099e+04,  4.67823079e+03,  1.25521082e+04,  1.12917136e+04,\n",
       "        2.80853756e+04,  3.01771335e+03,  1.33104858e+04,  5.81875196e+03,\n",
       "        1.52325654e+04,  6.03788448e+03,  1.67932640e+04,  4.09866321e+03,\n",
       "        1.22199662e+04,  3.47002085e+04,  1.06344312e+04,  1.05830364e+04,\n",
       "        5.04903128e+03,  1.67016736e+04,  1.44077989e+04,  5.49249845e+03,\n",
       "        1.11378307e+04,  1.23545200e+04,  4.71605292e+03,  7.33046101e+03,\n",
       "        2.80789480e+04,  3.24979726e+04, -2.59371918e+02,  4.04478377e+04,\n",
       "        9.39576934e+03,  7.77314708e+03,  1.07244413e+04,  3.37550239e+04,\n",
       "        3.63471197e+04,  3.68708216e+04,  5.23000850e+03,  6.19204228e+03,\n",
       "        1.05713606e+04,  8.39300667e+03,  4.29078650e+03,  1.15062056e+04,\n",
       "        1.03449378e+04,  9.93983606e+03,  9.54424640e+03,  4.00669819e+04,\n",
       "        8.29698981e+03,  4.74731027e+03,  2.66248530e+04,  2.81716021e+04,\n",
       "        1.48967146e+03,  1.17397565e+04,  6.22049813e+03,  4.19627181e+03,\n",
       "        1.06344161e+04,  1.15540906e+04,  1.53791539e+04,  1.15398740e+04,\n",
       "        4.15300959e+03,  7.62179508e+03,  1.17679434e+04,  1.27894897e+04,\n",
       "        1.68965736e+04,  1.10236114e+04,  5.98954069e+03,  3.22058133e+04,\n",
       "        1.01283299e+04,  6.43996022e+03,  2.81766860e+03,  7.58102710e+03,\n",
       "        6.76143832e+03,  6.65981816e+03,  6.30518024e+03,  9.13742299e+03,\n",
       "        6.99728830e+03,  3.11778218e+04,  6.04775315e+03,  4.30497544e+03,\n",
       "        1.98570439e+03,  4.35277745e+03,  8.32259880e+03,  2.99375253e+03,\n",
       "        2.76551878e+04,  6.79293008e+03,  6.37412676e+03,  1.50398402e+04,\n",
       "        9.97267776e+03,  1.14622394e+04,  1.42005041e+04,  1.54093609e+04,\n",
       "        1.49048778e+04,  2.35316655e+04,  5.20465150e+03,  9.82346170e+03,\n",
       "        1.04755173e+04,  1.00927755e+04,  1.31469715e+04,  6.54588225e+03,\n",
       "        3.67357671e+03,  3.28819465e+04,  1.43470691e+04,  1.46581109e+04,\n",
       "        1.20019822e+04,  3.52556367e+03,  1.00281359e+04,  3.45730420e+03,\n",
       "        2.95312047e+03,  1.10369651e+04,  1.54810907e+04,  1.32999009e+04,\n",
       "        3.52943231e+04,  3.79054114e+03,  3.39873449e+04,  2.68405551e+03,\n",
       "        8.78601720e+03,  2.95252177e+04,  5.74635987e+03,  2.08349873e+03,\n",
       "        7.16025112e+03,  1.38957115e+04,  6.14219149e+02,  6.44624141e+03,\n",
       "        8.88448083e+03,  3.77975069e+04,  2.59519738e+04,  9.77477044e+03,\n",
       "        1.16836759e+04,  3.78191834e+04,  1.48033265e+04,  3.54774166e+03,\n",
       "        5.66341547e+03,  9.15199088e+03,  1.67253003e+04,  1.00960184e+04,\n",
       "        7.85923359e+03,  1.04590930e+04,  3.09961871e+04,  3.18299767e+04,\n",
       "        6.78115340e+03,  3.17514851e+04,  3.43412886e+04,  1.44472383e+04,\n",
       "        8.87373414e+03,  1.03654208e+04,  5.14628472e+03,  1.21543474e+04,\n",
       "        1.47821314e+04,  4.29839146e+03,  1.30865101e+04,  1.30455153e+04,\n",
       "        1.04084676e+04,  2.81365552e+04,  2.71761384e+04,  3.31656323e+04,\n",
       "        1.26215775e+04,  1.46655805e+04,  1.71540577e+04,  4.34723402e+03,\n",
       "        9.50941952e+03,  9.26342464e+03,  3.19584177e+04,  3.90261977e+04,\n",
       "        1.13503601e+04,  3.56038245e+04,  2.79025024e+04,  3.23342092e+04,\n",
       "        9.09251979e+03,  1.62240535e+04,  3.86176758e+03,  3.27436932e+03,\n",
       "        2.70655913e+04,  9.50669347e+03])"
      ]
     },
     "execution_count": 37,
     "metadata": {},
     "output_type": "execute_result"
    }
   ],
   "source": [
    "ypred = reg.predict(xtest)\n",
    "ypred"
   ]
  },
  {
   "cell_type": "markdown",
   "id": "4102dee4",
   "metadata": {},
   "source": [
    "# Evaluate the model"
   ]
  },
  {
   "cell_type": "code",
   "execution_count": 38,
   "id": "27666c83",
   "metadata": {},
   "outputs": [
    {
     "data": {
      "text/plain": [
       "0.7405989316927213"
      ]
     },
     "execution_count": 38,
     "metadata": {},
     "output_type": "execute_result"
    }
   ],
   "source": [
    "linear_regression_accuracy=reg.score(xtest,ytest)  #Accuracy\n",
    "linear_regression_accuracy"
   ]
  },
  {
   "cell_type": "code",
   "execution_count": 39,
   "id": "e4315cfe",
   "metadata": {},
   "outputs": [
    {
     "data": {
      "text/plain": [
       "array([  251.68186515,   322.38910684,   344.9642553 ,  -282.79634661,\n",
       "       24059.39047692,  -304.09009765,  -939.34209691,  -868.18855866])"
      ]
     },
     "execution_count": 39,
     "metadata": {},
     "output_type": "execute_result"
    }
   ],
   "source": [
    "m = reg.coef_\n",
    "m"
   ]
  },
  {
   "cell_type": "code",
   "execution_count": 40,
   "id": "3978a793",
   "metadata": {},
   "outputs": [
    {
     "data": {
      "text/plain": [
       "-11039.23841856155"
      ]
     },
     "execution_count": 40,
     "metadata": {},
     "output_type": "execute_result"
    }
   ],
   "source": [
    "c = reg.intercept_\n",
    "c"
   ]
  },
  {
   "cell_type": "code",
   "execution_count": 41,
   "id": "3f3e5e15",
   "metadata": {},
   "outputs": [],
   "source": [
    "#import library\n",
    "from sklearn.metrics import mean_squared_error, mean_absolute_error"
   ]
  },
  {
   "cell_type": "code",
   "execution_count": 42,
   "id": "f6f6b89e",
   "metadata": {},
   "outputs": [
    {
     "data": {
      "text/plain": [
       "36761456.352013245"
      ]
     },
     "execution_count": 42,
     "metadata": {},
     "output_type": "execute_result"
    }
   ],
   "source": [
    "mse = mean_squared_error(ytest, ypred)\n",
    "mse"
   ]
  },
  {
   "cell_type": "code",
   "execution_count": 43,
   "id": "8c635ee1",
   "metadata": {},
   "outputs": [
    {
     "data": {
      "text/plain": [
       "4139.932064766011"
      ]
     },
     "execution_count": 43,
     "metadata": {},
     "output_type": "execute_result"
    }
   ],
   "source": [
    "mae = mean_absolute_error(ytest, ypred)\n",
    "mae"
   ]
  },
  {
   "cell_type": "markdown",
   "id": "83b6d12f",
   "metadata": {},
   "source": [
    "# Plot the results"
   ]
  },
  {
   "cell_type": "code",
   "execution_count": 44,
   "id": "5cca5020",
   "metadata": {},
   "outputs": [
    {
     "data": {
      "text/plain": [
       "Text(0.5, 1.0, 'Actual vs. Predicted')"
      ]
     },
     "execution_count": 44,
     "metadata": {},
     "output_type": "execute_result"
    },
    {
     "data": {
      "image/png": "[encoded data removed]",
      "text/plain": [
       "<Figure size 1080x720 with 1 Axes>"
      ]
     },
     "metadata": {
      "needs_background": "light"
     },
     "output_type": "display_data"
    }
   ],
   "source": [
    "plt.figure(figsize=(15,10))\n",
    "plt.scatter(ytest, ypred)\n",
    "plt.xlabel('Actual')\n",
    "plt.ylabel('Predicted')\n",
    "plt.title('Actual vs. Predicted')\n",
    "#plt.plot(xtrain.squeeze() , reg.predict(xtrain), color='red')"
   ]
  },
  {
   "cell_type": "markdown",
   "id": "716d95ec",
   "metadata": {},
   "source": [
    "# Predicted Values"
   ]
  },
  {
   "cell_type": "code",
   "execution_count": 45,
   "id": "fc837c19",
   "metadata": {},
   "outputs": [],
   "source": [
    "pred_y_df = pd.DataFrame({'Actual value':ytest, 'Predicted value':ypred, 'Difference': ytest-ypred})"
   ]
  },
  {
   "cell_type": "code",
   "execution_count": 46,
   "id": "17a73057",
   "metadata": {},
   "outputs": [
    {
     "data": {
      "text/html": [
       "<div>\n",
       "<style scoped>\n",
       "    .dataframe tbody tr th:only-of-type {\n",
       "        vertical-align: middle;\n",
       "    }\n",
       "\n",
       "    .dataframe tbody tr th {\n",
       "        vertical-align: top;\n",
       "    }\n",
       "\n",
       "    .dataframe thead th {\n",
       "        text-align: right;\n",
       "    }\n",
       "</style>\n",
       "<table border=\"1\" class=\"dataframe\">\n",
       "  <thead>\n",
       "    <tr style=\"text-align: right;\">\n",
       "      <th></th>\n",
       "      <th>Actual value</th>\n",
       "      <th>Predicted value</th>\n",
       "      <th>Difference</th>\n",
       "    </tr>\n",
       "  </thead>\n",
       "  <tbody>\n",
       "    <tr>\n",
       "      <th>559</th>\n",
       "      <td>1646.42970</td>\n",
       "      <td>4610.315541</td>\n",
       "      <td>-2963.885841</td>\n",
       "    </tr>\n",
       "    <tr>\n",
       "      <th>1087</th>\n",
       "      <td>11353.22760</td>\n",
       "      <td>12887.893880</td>\n",
       "      <td>-1534.666280</td>\n",
       "    </tr>\n",
       "    <tr>\n",
       "      <th>1020</th>\n",
       "      <td>8798.59300</td>\n",
       "      <td>12573.948752</td>\n",
       "      <td>-3775.355752</td>\n",
       "    </tr>\n",
       "    <tr>\n",
       "      <th>460</th>\n",
       "      <td>10381.47870</td>\n",
       "      <td>13197.836626</td>\n",
       "      <td>-2816.357926</td>\n",
       "    </tr>\n",
       "    <tr>\n",
       "      <th>802</th>\n",
       "      <td>2103.08000</td>\n",
       "      <td>629.337182</td>\n",
       "      <td>1473.742818</td>\n",
       "    </tr>\n",
       "    <tr>\n",
       "      <th>...</th>\n",
       "      <td>...</td>\n",
       "      <td>...</td>\n",
       "      <td>...</td>\n",
       "    </tr>\n",
       "    <tr>\n",
       "      <th>323</th>\n",
       "      <td>11566.30055</td>\n",
       "      <td>16224.053528</td>\n",
       "      <td>-4657.752978</td>\n",
       "    </tr>\n",
       "    <tr>\n",
       "      <th>1268</th>\n",
       "      <td>1880.48700</td>\n",
       "      <td>3861.767583</td>\n",
       "      <td>-1981.280583</td>\n",
       "    </tr>\n",
       "    <tr>\n",
       "      <th>134</th>\n",
       "      <td>2457.21115</td>\n",
       "      <td>3274.369325</td>\n",
       "      <td>-817.158175</td>\n",
       "    </tr>\n",
       "    <tr>\n",
       "      <th>1274</th>\n",
       "      <td>17043.34140</td>\n",
       "      <td>27065.591340</td>\n",
       "      <td>-10022.249940</td>\n",
       "    </tr>\n",
       "    <tr>\n",
       "      <th>876</th>\n",
       "      <td>26140.36030</td>\n",
       "      <td>9506.693466</td>\n",
       "      <td>16633.666834</td>\n",
       "    </tr>\n",
       "  </tbody>\n",
       "</table>\n",
       "<p>402 rows × 3 columns</p>\n",
       "</div>"
      ],
      "text/plain": [
       "      Actual value  Predicted value    Difference\n",
       "559     1646.42970      4610.315541  -2963.885841\n",
       "1087   11353.22760     12887.893880  -1534.666280\n",
       "1020    8798.59300     12573.948752  -3775.355752\n",
       "460    10381.47870     13197.836626  -2816.357926\n",
       "802     2103.08000       629.337182   1473.742818\n",
       "...            ...              ...           ...\n",
       "323    11566.30055     16224.053528  -4657.752978\n",
       "1268    1880.48700      3861.767583  -1981.280583\n",
       "134     2457.21115      3274.369325   -817.158175\n",
       "1274   17043.34140     27065.591340 -10022.249940\n",
       "876    26140.36030      9506.693466  16633.666834\n",
       "\n",
       "[402 rows x 3 columns]"
      ]
     },
     "execution_count": 46,
     "metadata": {},
     "output_type": "execute_result"
    }
   ],
   "source": [
    "pred_y_df "
   ]
  },
  {
   "cell_type": "code",
   "execution_count": 47,
   "id": "d6e602da",
   "metadata": {},
   "outputs": [
    {
     "data": {
      "text/html": [
       "<div>\n",
       "<style scoped>\n",
       "    .dataframe tbody tr th:only-of-type {\n",
       "        vertical-align: middle;\n",
       "    }\n",
       "\n",
       "    .dataframe tbody tr th {\n",
       "        vertical-align: top;\n",
       "    }\n",
       "\n",
       "    .dataframe thead th {\n",
       "        text-align: right;\n",
       "    }\n",
       "</style>\n",
       "<table border=\"1\" class=\"dataframe\">\n",
       "  <thead>\n",
       "    <tr style=\"text-align: right;\">\n",
       "      <th></th>\n",
       "      <th>Actual value</th>\n",
       "      <th>Predicted value</th>\n",
       "      <th>Difference</th>\n",
       "    </tr>\n",
       "  </thead>\n",
       "  <tbody>\n",
       "    <tr>\n",
       "      <th>559</th>\n",
       "      <td>1646.42970</td>\n",
       "      <td>4610.315541</td>\n",
       "      <td>-2963.885841</td>\n",
       "    </tr>\n",
       "    <tr>\n",
       "      <th>1087</th>\n",
       "      <td>11353.22760</td>\n",
       "      <td>12887.893880</td>\n",
       "      <td>-1534.666280</td>\n",
       "    </tr>\n",
       "    <tr>\n",
       "      <th>1020</th>\n",
       "      <td>8798.59300</td>\n",
       "      <td>12573.948752</td>\n",
       "      <td>-3775.355752</td>\n",
       "    </tr>\n",
       "    <tr>\n",
       "      <th>460</th>\n",
       "      <td>10381.47870</td>\n",
       "      <td>13197.836626</td>\n",
       "      <td>-2816.357926</td>\n",
       "    </tr>\n",
       "    <tr>\n",
       "      <th>802</th>\n",
       "      <td>2103.08000</td>\n",
       "      <td>629.337182</td>\n",
       "      <td>1473.742818</td>\n",
       "    </tr>\n",
       "    <tr>\n",
       "      <th>298</th>\n",
       "      <td>38746.35510</td>\n",
       "      <td>32357.257584</td>\n",
       "      <td>6389.097516</td>\n",
       "    </tr>\n",
       "    <tr>\n",
       "      <th>481</th>\n",
       "      <td>9304.70190</td>\n",
       "      <td>12853.778438</td>\n",
       "      <td>-3549.076538</td>\n",
       "    </tr>\n",
       "    <tr>\n",
       "      <th>616</th>\n",
       "      <td>11658.11505</td>\n",
       "      <td>12273.662540</td>\n",
       "      <td>-615.547490</td>\n",
       "    </tr>\n",
       "    <tr>\n",
       "      <th>763</th>\n",
       "      <td>3070.80870</td>\n",
       "      <td>3865.164045</td>\n",
       "      <td>-794.355345</td>\n",
       "    </tr>\n",
       "    <tr>\n",
       "      <th>750</th>\n",
       "      <td>19539.24300</td>\n",
       "      <td>29904.111392</td>\n",
       "      <td>-10364.868392</td>\n",
       "    </tr>\n",
       "    <tr>\n",
       "      <th>48</th>\n",
       "      <td>12629.89670</td>\n",
       "      <td>11030.536184</td>\n",
       "      <td>1599.360516</td>\n",
       "    </tr>\n",
       "    <tr>\n",
       "      <th>547</th>\n",
       "      <td>11538.42100</td>\n",
       "      <td>17428.893541</td>\n",
       "      <td>-5890.472541</td>\n",
       "    </tr>\n",
       "    <tr>\n",
       "      <th>1143</th>\n",
       "      <td>6338.07560</td>\n",
       "      <td>8670.208104</td>\n",
       "      <td>-2332.132504</td>\n",
       "    </tr>\n",
       "    <tr>\n",
       "      <th>767</th>\n",
       "      <td>7050.64200</td>\n",
       "      <td>8357.459712</td>\n",
       "      <td>-1306.817712</td>\n",
       "    </tr>\n",
       "    <tr>\n",
       "      <th>194</th>\n",
       "      <td>1137.46970</td>\n",
       "      <td>3368.753659</td>\n",
       "      <td>-2231.283959</td>\n",
       "    </tr>\n",
       "    <tr>\n",
       "      <th>424</th>\n",
       "      <td>8968.33000</td>\n",
       "      <td>10316.585740</td>\n",
       "      <td>-1348.255740</td>\n",
       "    </tr>\n",
       "    <tr>\n",
       "      <th>3</th>\n",
       "      <td>21984.47061</td>\n",
       "      <td>3999.221358</td>\n",
       "      <td>17985.249252</td>\n",
       "    </tr>\n",
       "    <tr>\n",
       "      <th>785</th>\n",
       "      <td>6414.17800</td>\n",
       "      <td>6866.509328</td>\n",
       "      <td>-452.331328</td>\n",
       "    </tr>\n",
       "    <tr>\n",
       "      <th>443</th>\n",
       "      <td>28287.89766</td>\n",
       "      <td>14989.263965</td>\n",
       "      <td>13298.633695</td>\n",
       "    </tr>\n",
       "    <tr>\n",
       "      <th>921</th>\n",
       "      <td>13462.52000</td>\n",
       "      <td>14400.167009</td>\n",
       "      <td>-937.647009</td>\n",
       "    </tr>\n",
       "    <tr>\n",
       "      <th>315</th>\n",
       "      <td>9722.76950</td>\n",
       "      <td>12484.860025</td>\n",
       "      <td>-2762.090525</td>\n",
       "    </tr>\n",
       "    <tr>\n",
       "      <th>725</th>\n",
       "      <td>40932.42950</td>\n",
       "      <td>33255.453304</td>\n",
       "      <td>7676.976196</td>\n",
       "    </tr>\n",
       "    <tr>\n",
       "      <th>88</th>\n",
       "      <td>8026.66660</td>\n",
       "      <td>9177.111104</td>\n",
       "      <td>-1150.444504</td>\n",
       "    </tr>\n",
       "    <tr>\n",
       "      <th>310</th>\n",
       "      <td>8444.47400</td>\n",
       "      <td>8969.420175</td>\n",
       "      <td>-524.946175</td>\n",
       "    </tr>\n",
       "    <tr>\n",
       "      <th>471</th>\n",
       "      <td>2203.47185</td>\n",
       "      <td>3199.783106</td>\n",
       "      <td>-996.311256</td>\n",
       "    </tr>\n",
       "    <tr>\n",
       "      <th>726</th>\n",
       "      <td>6664.68595</td>\n",
       "      <td>8195.258443</td>\n",
       "      <td>-1530.572493</td>\n",
       "    </tr>\n",
       "    <tr>\n",
       "      <th>60</th>\n",
       "      <td>8606.21740</td>\n",
       "      <td>9355.744165</td>\n",
       "      <td>-749.526765</td>\n",
       "    </tr>\n",
       "    <tr>\n",
       "      <th>1280</th>\n",
       "      <td>8283.68070</td>\n",
       "      <td>10847.377942</td>\n",
       "      <td>-2563.697242</td>\n",
       "    </tr>\n",
       "    <tr>\n",
       "      <th>705</th>\n",
       "      <td>5375.03800</td>\n",
       "      <td>7694.604698</td>\n",
       "      <td>-2319.566698</td>\n",
       "    </tr>\n",
       "    <tr>\n",
       "      <th>101</th>\n",
       "      <td>3645.08940</td>\n",
       "      <td>4436.447849</td>\n",
       "      <td>-791.358449</td>\n",
       "    </tr>\n",
       "  </tbody>\n",
       "</table>\n",
       "</div>"
      ],
      "text/plain": [
       "      Actual value  Predicted value    Difference\n",
       "559     1646.42970      4610.315541  -2963.885841\n",
       "1087   11353.22760     12887.893880  -1534.666280\n",
       "1020    8798.59300     12573.948752  -3775.355752\n",
       "460    10381.47870     13197.836626  -2816.357926\n",
       "802     2103.08000       629.337182   1473.742818\n",
       "298    38746.35510     32357.257584   6389.097516\n",
       "481     9304.70190     12853.778438  -3549.076538\n",
       "616    11658.11505     12273.662540   -615.547490\n",
       "763     3070.80870      3865.164045   -794.355345\n",
       "750    19539.24300     29904.111392 -10364.868392\n",
       "48     12629.89670     11030.536184   1599.360516\n",
       "547    11538.42100     17428.893541  -5890.472541\n",
       "1143    6338.07560      8670.208104  -2332.132504\n",
       "767     7050.64200      8357.459712  -1306.817712\n",
       "194     1137.46970      3368.753659  -2231.283959\n",
       "424     8968.33000     10316.585740  -1348.255740\n",
       "3      21984.47061      3999.221358  17985.249252\n",
       "785     6414.17800      6866.509328   -452.331328\n",
       "443    28287.89766     14989.263965  13298.633695\n",
       "921    13462.52000     14400.167009   -937.647009\n",
       "315     9722.76950     12484.860025  -2762.090525\n",
       "725    40932.42950     33255.453304   7676.976196\n",
       "88      8026.66660      9177.111104  -1150.444504\n",
       "310     8444.47400      8969.420175   -524.946175\n",
       "471     2203.47185      3199.783106   -996.311256\n",
       "726     6664.68595      8195.258443  -1530.572493\n",
       "60      8606.21740      9355.744165   -749.526765\n",
       "1280    8283.68070     10847.377942  -2563.697242\n",
       "705     5375.03800      7694.604698  -2319.566698\n",
       "101     3645.08940      4436.447849   -791.358449"
      ]
     },
     "execution_count": 47,
     "metadata": {},
     "output_type": "execute_result"
    }
   ],
   "source": [
    "pred_y_df [0:30]"
   ]
  },
  {
   "cell_type": "markdown",
   "id": "69cfc0c8",
   "metadata": {},
   "source": [
    "# KNN Regression (K-Nearest Neighbors Algorithm)"
   ]
  },
  {
   "cell_type": "markdown",
   "id": "000a7253",
   "metadata": {},
   "source": [
    "# Train the model on the training set "
   ]
  },
  {
   "cell_type": "code",
   "execution_count": 48,
   "id": "bcf4260a",
   "metadata": {},
   "outputs": [],
   "source": [
    "#Import Library\n",
    "from sklearn.neighbors import KNeighborsRegressor"
   ]
  },
  {
   "cell_type": "code",
   "execution_count": 49,
   "id": "a50b04d8",
   "metadata": {},
   "outputs": [],
   "source": [
    "knn = KNeighborsRegressor(n_neighbors = 50)"
   ]
  },
  {
   "cell_type": "code",
   "execution_count": 50,
   "id": "cd0f6dc7",
   "metadata": {},
   "outputs": [
    {
     "data": {
      "text/plain": [
       "KNeighborsRegressor(n_neighbors=50)"
      ]
     },
     "execution_count": 50,
     "metadata": {},
     "output_type": "execute_result"
    }
   ],
   "source": [
    "knn.fit(xtrain,ytrain)"
   ]
  },
  {
   "cell_type": "markdown",
   "id": "43c73048",
   "metadata": {},
   "source": [
    "# Predict the test set results"
   ]
  },
  {
   "cell_type": "code",
   "execution_count": 51,
   "id": "4ff09eec",
   "metadata": {},
   "outputs": [
    {
     "data": {
      "text/plain": [
       "array([10417.1926196 , 17316.0954574 , 18012.3564014 , 18781.950284  ,\n",
       "        5596.1840332 , 12851.1992242 , 17711.2493892 , 15811.5062356 ,\n",
       "        7360.9371724 ,  9556.410249  , 15366.9397336 , 21174.3921214 ,\n",
       "       11848.5492476 , 12979.7704298 , 10937.4390566 , 15610.4885688 ,\n",
       "        9216.0308238 ,  8477.307469  , 21956.1051602 , 23180.0461248 ,\n",
       "       18296.1178228 , 13258.1556398 , 13493.0999974 , 15041.6993104 ,\n",
       "       10129.36052918, 11113.470974  , 11491.084881  , 16959.22366   ,\n",
       "       12032.4107032 ,  8185.3581188 , 17020.2690712 ,  8312.979119  ,\n",
       "       14881.7724362 ,  9416.46617798, 14451.716472  , 14851.2563702 ,\n",
       "       12006.2585754 ,  6985.7534298 , 21311.376989  , 14350.7231604 ,\n",
       "       10665.1304382 , 20166.9762002 , 13760.9221908 , 21232.68722   ,\n",
       "        7968.7772354 , 17690.2715452 , 11062.2116806 , 10193.0408418 ,\n",
       "       14652.4473108 , 17328.0563406 , 21974.8138756 , 16206.8491204 ,\n",
       "        5877.0129142 , 13628.2758462 ,  8303.70105038, 11464.0709904 ,\n",
       "       14001.8655406 , 22210.9047958 ,  5694.7570312 , 13129.9853506 ,\n",
       "       11870.9894554 , 21981.9949098 ,  8899.5947742 ,  7826.0472122 ,\n",
       "       21232.037761  , 16117.503112  , 14376.5580036 , 14568.1354232 ,\n",
       "        7355.5677634 ,  6816.6701008 , 17006.3985236 , 13399.1794208 ,\n",
       "        8814.66507718, 14928.4637162 , 21196.6696778 , 14369.3917254 ,\n",
       "        6958.7662894 ,  8266.8716656 , 14886.522149  , 14819.7279632 ,\n",
       "        5927.5844608 , 17594.4155558 , 14944.2538772 ,  9915.174231  ,\n",
       "       11924.584275  , 12857.4224114 , 12530.3294256 , 16503.5160568 ,\n",
       "       15848.2835438 , 10536.2534364 , 10306.303047  , 15104.394074  ,\n",
       "       22718.2179428 , 16727.293984  ,  5222.8029266 , 15808.3565628 ,\n",
       "       15062.5757186 , 18755.425996  , 19462.582262  ,  8986.3737948 ,\n",
       "       19784.0252876 ,  6730.7710424 ,  9461.3959624 , 11422.8048756 ,\n",
       "       15983.6010656 ,  8133.0954182 ,  6337.6007812 , 13688.7123204 ,\n",
       "       11490.8224092 , 16443.0708114 ,  8753.395623  , 12082.5272968 ,\n",
       "        6452.010544  , 22127.3149958 ,  6819.7394684 ,  8137.16252318,\n",
       "       12804.3628188 , 16037.0837276 , 15092.8268662 ,  9280.4168136 ,\n",
       "       14590.5876284 , 17143.835088  , 10400.583794  , 12663.8406746 ,\n",
       "       17698.063899  , 17312.9338636 , 15178.8775012 ,  9388.9821988 ,\n",
       "       16617.4533648 , 14228.5473448 , 11471.3805192 ,  5328.7023744 ,\n",
       "        9036.7343326 , 16855.6238108 , 13491.5136594 ,  5343.2925124 ,\n",
       "        6499.72213358, 11471.3805192 , 14785.3166316 , 16111.3826576 ,\n",
       "       22344.6143642 , 14225.15581   ,  8771.3568858 , 22853.2609508 ,\n",
       "       18803.4495748 , 16478.091019  ,  9906.31501078, 10769.916996  ,\n",
       "       11053.1238276 ,  9176.8032846 , 15304.3213416 , 11375.0913888 ,\n",
       "       17772.2452624 , 17352.6112    , 17652.7603708 , 11323.4233764 ,\n",
       "       17224.3813276 , 15162.98664   , 13150.7778714 , 10307.8780252 ,\n",
       "       10116.4174554 , 24992.4199798 , 17930.079575  , 12175.6457458 ,\n",
       "       12234.5550966 , 10811.6197316 , 15622.112809  , 16245.6225748 ,\n",
       "       16177.3453866 ,  9972.547015  , 10340.8985316 , 11559.579112  ,\n",
       "       14785.6463822 , 15261.629294  ,  7953.3034064 ,  8784.59282   ,\n",
       "       12161.589447  , 19858.6527988 ,  8815.7005114 , 14378.7324792 ,\n",
       "       19238.7330108 , 15683.3616696 , 14003.551938  , 16822.1837734 ,\n",
       "        6916.6937332 , 10642.5993778 ,  9298.7915272 , 17414.4913634 ,\n",
       "       12226.9570836 , 10639.6582996 , 23529.2867588 , 17868.9933084 ,\n",
       "        8810.5227218 ,  7186.1950926 , 11039.7862004 , 15002.3795446 ,\n",
       "       10270.1270336 , 10380.7689936 , 14739.5770072 , 13752.7949544 ,\n",
       "       12290.2567804 , 14367.3380554 , 14801.1521362 , 11863.6725466 ,\n",
       "        9157.1767836 ,  7190.11667458, 12919.774003  , 11573.6346854 ,\n",
       "       12433.7397396 , 16514.868552  ,  8198.8701206 , 14800.5026382 ,\n",
       "       11835.6344046 , 11615.23882   , 14784.5140422 , 23963.5330432 ,\n",
       "       15764.3200848 , 11240.5846204 , 10039.3098196 , 13751.8296862 ,\n",
       "        9425.00224678, 14751.9990086 , 17094.722876  ,  8663.6909862 ,\n",
       "        8096.25169118,  6185.9649038 ,  9585.1327146 , 10496.6180732 ,\n",
       "        8423.85507498, 23529.2321258 , 10750.6742426 , 16983.246954  ,\n",
       "       17421.2741126 , 10128.3405538 , 16216.6833488 , 16405.0100884 ,\n",
       "        8050.7585354 ,  9598.80122038, 16945.6117428 , 10580.5314006 ,\n",
       "       17873.6221602 , 12304.1718966 , 24562.3087382 , 11568.6478432 ,\n",
       "       17322.93964   , 15229.5734296 , 14384.6593254 , 17108.85248   ,\n",
       "       10477.337987  , 23826.7822136 , 17550.2858506 ,  8993.596768  ,\n",
       "       15917.8580216 , 16739.623461  , 12047.3790058 , 12424.8781296 ,\n",
       "       10745.8552806 , 12305.873878  ,  5344.0473174 , 23091.3878322 ,\n",
       "       13612.2833162 , 11729.8311084 , 16573.1539756 , 14501.847469  ,\n",
       "       15113.2669836 , 18986.2590322 , 11191.7718566 ,  9398.9348378 ,\n",
       "       15512.6691274 , 14807.4242636 , 10729.3408252 , 15669.8173946 ,\n",
       "       15316.1344818 , 13932.6958918 , 11548.4154116 , 22197.970693  ,\n",
       "       10993.7695426 ,  8952.2903098 ,  8456.10221298,  9963.8984138 ,\n",
       "        8272.56970838, 14495.4552442 ,  8746.968809  ,  9407.7061656 ,\n",
       "       13168.4596614 , 15204.2345706 , 20261.434686  , 16854.4564834 ,\n",
       "       12443.0823    ,  8698.5571306 , 16219.0111584 , 16406.3109132 ,\n",
       "       22127.0836178 , 15496.1224646 , 11223.1460986 , 13240.6507102 ,\n",
       "       11153.661413  , 11057.9163114 ,  6349.2590598 , 11235.2170642 ,\n",
       "        8719.7165566 , 11958.6726446 ,  9150.2387078 , 10228.0138874 ,\n",
       "       10510.9719902 , 10071.302066  ,  9258.2712498 ,  8080.7138614 ,\n",
       "        9697.86515938, 10961.6423066 , 13328.1637334 ,  9171.32458358,\n",
       "       11151.7688464 , 10276.6223046 , 10233.6318184 , 22180.9480408 ,\n",
       "       15286.8573062 , 14522.797897  , 23073.7687882 , 18761.8364614 ,\n",
       "       16369.7569442 ,  5608.5188024 ,  8949.5910788 , 10845.673255  ,\n",
       "       14330.6110202 , 16207.5059858 , 16930.664078  , 10957.0678782 ,\n",
       "        8105.3633822 , 14126.4948984 , 17603.5892744 , 21187.019125  ,\n",
       "       15642.5065128 ,  9894.9065072 , 13691.3511662 ,  7461.3568748 ,\n",
       "        6563.7811378 , 15562.8709176 , 23285.2616998 , 17222.9701392 ,\n",
       "       18489.6096542 , 10083.22321898, 14549.4574606 ,  7271.467381  ,\n",
       "       13638.0953438 , 11884.8406866 ,  9305.4857422 ,  6513.20739158,\n",
       "       11079.9574546 , 16989.2731824 ,  7647.8968466 , 13357.1224272 ,\n",
       "       14694.9795932 , 16199.2753554 ,  6498.41967858,  9942.9702066 ,\n",
       "       17389.828785  , 17877.0760052 , 18599.6777016 ,  7726.757567  ,\n",
       "        9132.3247398 , 14291.582216  , 17700.7016256 , 13700.9045454 ,\n",
       "       14156.8594688 , 14026.0752346 , 11179.3215746 , 12755.071833  ,\n",
       "       10547.0595542 , 14348.2924822 , 15815.1491898 , 18598.8237324 ,\n",
       "       11466.8855912 , 14245.1001664 , 10557.5782784 , 15707.430914  ,\n",
       "       21432.3149806 , 11282.9124796 , 13207.0497184 , 18027.939772  ,\n",
       "       13427.5841578 ,  8313.5065668 , 10607.17658718, 12565.298591  ,\n",
       "       17542.5381828 , 17622.1774796 , 21276.6862346 ,  8415.008112  ,\n",
       "       12831.6309174 , 14854.3168092 , 16048.145008  , 22896.1761018 ,\n",
       "       16622.8121276 , 19145.8865838 , 11422.8048756 , 12631.7757716 ,\n",
       "       13313.0228372 , 19417.9181068 ,  7966.9933648 ,  8374.95327818,\n",
       "        8921.7725862 , 15169.2685398 ])"
      ]
     },
     "execution_count": 51,
     "metadata": {},
     "output_type": "execute_result"
    }
   ],
   "source": [
    "ypred1 = knn.predict(xtest)\n",
    "ypred1"
   ]
  },
  {
   "cell_type": "markdown",
   "id": "818de533",
   "metadata": {},
   "source": [
    "# Evaluate the model"
   ]
  },
  {
   "cell_type": "code",
   "execution_count": 52,
   "id": "ebd482a0",
   "metadata": {},
   "outputs": [
    {
     "data": {
      "text/plain": [
       "0.1386658474357294"
      ]
     },
     "execution_count": 52,
     "metadata": {},
     "output_type": "execute_result"
    }
   ],
   "source": [
    "knn_accuracy=knn.score(xtest,ytest)  #Accuracy\n",
    "knn_accuracy"
   ]
  },
  {
   "cell_type": "code",
   "execution_count": 53,
   "id": "e381a691",
   "metadata": {},
   "outputs": [],
   "source": [
    "MSE = mean_squared_error(ytest, ypred1)"
   ]
  },
  {
   "cell_type": "code",
   "execution_count": 54,
   "id": "61a061ad",
   "metadata": {},
   "outputs": [
    {
     "data": {
      "text/plain": [
       "122065410.3724879"
      ]
     },
     "execution_count": 54,
     "metadata": {},
     "output_type": "execute_result"
    }
   ],
   "source": [
    "MSE"
   ]
  },
  {
   "cell_type": "code",
   "execution_count": 55,
   "id": "b97158b7",
   "metadata": {},
   "outputs": [
    {
     "data": {
      "text/plain": [
       "8686.24383453587"
      ]
     },
     "execution_count": 55,
     "metadata": {},
     "output_type": "execute_result"
    }
   ],
   "source": [
    "MAE = mean_absolute_error(ytest, ypred1)\n",
    "MAE"
   ]
  },
  {
   "cell_type": "markdown",
   "id": "05b23db2",
   "metadata": {},
   "source": [
    "# Plot the results"
   ]
  },
  {
   "cell_type": "code",
   "execution_count": 56,
   "id": "ac937a5c",
   "metadata": {},
   "outputs": [
    {
     "data": {
      "text/plain": [
       "Text(0.5, 1.0, 'Actual vs. Predicted')"
      ]
     },
     "execution_count": 56,
     "metadata": {},
     "output_type": "execute_result"
    },
    {
     "data": {
      "image/png": "[encoded data removed]",
      "text/plain": [
       "<Figure size 1080x720 with 1 Axes>"
      ]
     },
     "metadata": {
      "needs_background": "light"
     },
     "output_type": "display_data"
    }
   ],
   "source": [
    "plt.figure(figsize=(15,10))\n",
    "plt.scatter(ytest, ypred1)\n",
    "plt.xlabel('Actual')\n",
    "plt.ylabel('Predicted')\n",
    "plt.title('Actual vs. Predicted')"
   ]
  },
  {
   "cell_type": "markdown",
   "id": "07c34ef8",
   "metadata": {},
   "source": [
    "# Predicted Values "
   ]
  },
  {
   "cell_type": "code",
   "execution_count": 57,
   "id": "16a8b9ee",
   "metadata": {},
   "outputs": [],
   "source": [
    "pred1_y_df = pd.DataFrame({'Actual value':ytest, 'Predicted value':ypred1, 'Difference': ytest-ypred1})"
   ]
  },
  {
   "cell_type": "code",
   "execution_count": 58,
   "id": "cf19ae5c",
   "metadata": {},
   "outputs": [
    {
     "data": {
      "text/html": [
       "<div>\n",
       "<style scoped>\n",
       "    .dataframe tbody tr th:only-of-type {\n",
       "        vertical-align: middle;\n",
       "    }\n",
       "\n",
       "    .dataframe tbody tr th {\n",
       "        vertical-align: top;\n",
       "    }\n",
       "\n",
       "    .dataframe thead th {\n",
       "        text-align: right;\n",
       "    }\n",
       "</style>\n",
       "<table border=\"1\" class=\"dataframe\">\n",
       "  <thead>\n",
       "    <tr style=\"text-align: right;\">\n",
       "      <th></th>\n",
       "      <th>Actual value</th>\n",
       "      <th>Predicted value</th>\n",
       "      <th>Difference</th>\n",
       "    </tr>\n",
       "  </thead>\n",
       "  <tbody>\n",
       "    <tr>\n",
       "      <th>559</th>\n",
       "      <td>1646.42970</td>\n",
       "      <td>10417.192620</td>\n",
       "      <td>-8770.762920</td>\n",
       "    </tr>\n",
       "    <tr>\n",
       "      <th>1087</th>\n",
       "      <td>11353.22760</td>\n",
       "      <td>17316.095457</td>\n",
       "      <td>-5962.867857</td>\n",
       "    </tr>\n",
       "    <tr>\n",
       "      <th>1020</th>\n",
       "      <td>8798.59300</td>\n",
       "      <td>18012.356401</td>\n",
       "      <td>-9213.763401</td>\n",
       "    </tr>\n",
       "    <tr>\n",
       "      <th>460</th>\n",
       "      <td>10381.47870</td>\n",
       "      <td>18781.950284</td>\n",
       "      <td>-8400.471584</td>\n",
       "    </tr>\n",
       "    <tr>\n",
       "      <th>802</th>\n",
       "      <td>2103.08000</td>\n",
       "      <td>5596.184033</td>\n",
       "      <td>-3493.104033</td>\n",
       "    </tr>\n",
       "    <tr>\n",
       "      <th>...</th>\n",
       "      <td>...</td>\n",
       "      <td>...</td>\n",
       "      <td>...</td>\n",
       "    </tr>\n",
       "    <tr>\n",
       "      <th>323</th>\n",
       "      <td>11566.30055</td>\n",
       "      <td>19417.918107</td>\n",
       "      <td>-7851.617557</td>\n",
       "    </tr>\n",
       "    <tr>\n",
       "      <th>1268</th>\n",
       "      <td>1880.48700</td>\n",
       "      <td>7966.993365</td>\n",
       "      <td>-6086.506365</td>\n",
       "    </tr>\n",
       "    <tr>\n",
       "      <th>134</th>\n",
       "      <td>2457.21115</td>\n",
       "      <td>8374.953278</td>\n",
       "      <td>-5917.742128</td>\n",
       "    </tr>\n",
       "    <tr>\n",
       "      <th>1274</th>\n",
       "      <td>17043.34140</td>\n",
       "      <td>8921.772586</td>\n",
       "      <td>8121.568814</td>\n",
       "    </tr>\n",
       "    <tr>\n",
       "      <th>876</th>\n",
       "      <td>26140.36030</td>\n",
       "      <td>15169.268540</td>\n",
       "      <td>10971.091760</td>\n",
       "    </tr>\n",
       "  </tbody>\n",
       "</table>\n",
       "<p>402 rows × 3 columns</p>\n",
       "</div>"
      ],
      "text/plain": [
       "      Actual value  Predicted value    Difference\n",
       "559     1646.42970     10417.192620  -8770.762920\n",
       "1087   11353.22760     17316.095457  -5962.867857\n",
       "1020    8798.59300     18012.356401  -9213.763401\n",
       "460    10381.47870     18781.950284  -8400.471584\n",
       "802     2103.08000      5596.184033  -3493.104033\n",
       "...            ...              ...           ...\n",
       "323    11566.30055     19417.918107  -7851.617557\n",
       "1268    1880.48700      7966.993365  -6086.506365\n",
       "134     2457.21115      8374.953278  -5917.742128\n",
       "1274   17043.34140      8921.772586   8121.568814\n",
       "876    26140.36030     15169.268540  10971.091760\n",
       "\n",
       "[402 rows x 3 columns]"
      ]
     },
     "execution_count": 58,
     "metadata": {},
     "output_type": "execute_result"
    }
   ],
   "source": [
    "pred1_y_df"
   ]
  },
  {
   "cell_type": "code",
   "execution_count": 59,
   "id": "bdd08224",
   "metadata": {},
   "outputs": [],
   "source": [
    "# Comparing Accuracy for KNN Regression & Multiple Linear Regression "
   ]
  },
  {
   "cell_type": "code",
   "execution_count": 60,
   "id": "e94eb691",
   "metadata": {},
   "outputs": [],
   "source": [
    "# Creating DataFrame for All Accuracy\n",
    "accuracy_df = pd.DataFrame([['KNN Regressor', knn_accuracy], ['Multiple Variable Linear Regression', linear_regression_accuracy]], columns=['Algorithm Name', 'Accuracy'])"
   ]
  },
  {
   "cell_type": "code",
   "execution_count": 61,
   "id": "ada321aa",
   "metadata": {},
   "outputs": [
    {
     "data": {
      "text/html": [
       "<div>\n",
       "<style scoped>\n",
       "    .dataframe tbody tr th:only-of-type {\n",
       "        vertical-align: middle;\n",
       "    }\n",
       "\n",
       "    .dataframe tbody tr th {\n",
       "        vertical-align: top;\n",
       "    }\n",
       "\n",
       "    .dataframe thead th {\n",
       "        text-align: right;\n",
       "    }\n",
       "</style>\n",
       "<table border=\"1\" class=\"dataframe\">\n",
       "  <thead>\n",
       "    <tr style=\"text-align: right;\">\n",
       "      <th></th>\n",
       "      <th>Algorithm Name</th>\n",
       "      <th>Accuracy</th>\n",
       "    </tr>\n",
       "  </thead>\n",
       "  <tbody>\n",
       "    <tr>\n",
       "      <th>0</th>\n",
       "      <td>KNN Regressor</td>\n",
       "      <td>0.138666</td>\n",
       "    </tr>\n",
       "    <tr>\n",
       "      <th>1</th>\n",
       "      <td>Multiple Variable Linear Regression</td>\n",
       "      <td>0.740599</td>\n",
       "    </tr>\n",
       "  </tbody>\n",
       "</table>\n",
       "</div>"
      ],
      "text/plain": [
       "                        Algorithm Name  Accuracy\n",
       "0                        KNN Regressor  0.138666\n",
       "1  Multiple Variable Linear Regression  0.740599"
      ]
     },
     "execution_count": 61,
     "metadata": {},
     "output_type": "execute_result"
    }
   ],
   "source": [
    "accuracy_df"
   ]
  },
  {
   "cell_type": "code",
   "execution_count": 62,
   "id": "90c2627a",
   "metadata": {},
   "outputs": [
    {
     "data": {
      "text/html": [
       "<div>\n",
       "<style scoped>\n",
       "    .dataframe tbody tr th:only-of-type {\n",
       "        vertical-align: middle;\n",
       "    }\n",
       "\n",
       "    .dataframe tbody tr th {\n",
       "        vertical-align: top;\n",
       "    }\n",
       "\n",
       "    .dataframe thead th {\n",
       "        text-align: right;\n",
       "    }\n",
       "</style>\n",
       "<table border=\"1\" class=\"dataframe\">\n",
       "  <thead>\n",
       "    <tr style=\"text-align: right;\">\n",
       "      <th></th>\n",
       "      <th>Algorithm Name</th>\n",
       "      <th>Accuracy</th>\n",
       "    </tr>\n",
       "  </thead>\n",
       "  <tbody>\n",
       "    <tr>\n",
       "      <th>1</th>\n",
       "      <td>Multiple Variable Linear Regression</td>\n",
       "      <td>0.740599</td>\n",
       "    </tr>\n",
       "  </tbody>\n",
       "</table>\n",
       "</div>"
      ],
      "text/plain": [
       "                        Algorithm Name  Accuracy\n",
       "1  Multiple Variable Linear Regression  0.740599"
      ]
     },
     "execution_count": 62,
     "metadata": {},
     "output_type": "execute_result"
    }
   ],
   "source": [
    "accuracy_df.nlargest(1,'Accuracy') # largest accuracy"
   ]
  },
  {
   "cell_type": "code",
   "execution_count": 63,
   "id": "5709da07",
   "metadata": {},
   "outputs": [
    {
     "data": {
      "image/png": "[encoded data removed]",
      "text/plain": [
       "<Figure size 432x288 with 1 Axes>"
      ]
     },
     "metadata": {},
     "output_type": "display_data"
    }
   ],
   "source": [
    "sns.set()\n",
    "sns.barplot(y=\"Algorithm Name\", x=\"Accuracy\",  data=accuracy_df, palette=\"Set1\").set(title='Accuracy Plot')\n",
    "sns.set(rc={'figure.figsize':(15,10)})"
   ]
  },
  {
   "cell_type": "code",
   "execution_count": null,
   "id": "6ad64cde",
   "metadata": {},
   "outputs": [],
   "source": []
  }
 ],
 "metadata": {
  "kernelspec": {
   "display_name": "Python 3 (ipykernel)",
   "language": "python",
   "name": "python3"
  },
  "language_info": {
   "codemirror_mode": {
    "name": "ipython",
    "version": 3
   },
   "file_extension": ".py",
   "mimetype": "text/x-python",
   "name": "python",
   "nbconvert_exporter": "python",
   "pygments_lexer": "ipython3",
   "version": "3.9.12"
  }
 },
 "nbformat": 4,
 "nbformat_minor": 5
}
